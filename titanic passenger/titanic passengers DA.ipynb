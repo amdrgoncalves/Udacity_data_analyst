{
 "cells": [
  {
   "cell_type": "markdown",
   "metadata": {},
   "source": [
    "# P2 - Titanic passengers data analysis\n",
    "\n",
    "By: Alexandre Medeiros Gonçalves"
   ]
  },
  {
   "cell_type": "markdown",
   "metadata": {},
   "source": [
    "# Titanic data\n",
    "Reading files from titanic.csv\n"
   ]
  },
  {
   "cell_type": "code",
   "execution_count": 1,
   "metadata": {
    "collapsed": false
   },
   "outputs": [
    {
     "name": "stdout",
     "output_type": "stream",
     "text": [
      "Populating the interactive namespace from numpy and matplotlib\n",
      "   PassengerId  Survived  Pclass  \\\n",
      "0            1         0       3   \n",
      "1            2         1       1   \n",
      "2            3         1       3   \n",
      "3            4         1       1   \n",
      "4            5         0       3   \n",
      "\n",
      "                                                Name     Sex  Age  SibSp  \\\n",
      "0                            Braund, Mr. Owen Harris    male   22      1   \n",
      "1  Cumings, Mrs. John Bradley (Florence Briggs Th...  female   38      1   \n",
      "2                             Heikkinen, Miss. Laina  female   26      0   \n",
      "3       Futrelle, Mrs. Jacques Heath (Lily May Peel)  female   35      1   \n",
      "4                           Allen, Mr. William Henry    male   35      0   \n",
      "\n",
      "   Parch            Ticket     Fare Cabin Embarked  \n",
      "0      0         A/5 21171   7.2500   NaN        S  \n",
      "1      0          PC 17599  71.2833   C85        C  \n",
      "2      0  STON/O2. 3101282   7.9250   NaN        S  \n",
      "3      0            113803  53.1000  C123        S  \n",
      "4      0            373450   8.0500   NaN        S  \n",
      "891\n"
     ]
    }
   ],
   "source": [
    "import pandas as pd\n",
    "import numpy as np\n",
    "import matplotlib.pyplot as plt\n",
    "%pylab inline\n",
    "\n",
    "titanic_df = pd.read_csv('titanic_data.csv')\n",
    "\n",
    "# displaying\n",
    "print titanic_df.head(5)\n",
    "print len(titanic_df)"
   ]
  },
  {
   "cell_type": "markdown",
   "metadata": {},
   "source": [
    "# Question: Ladies, children and/or richer first?\n",
    "\n",
    "In the following analysis we will show how variables such as age, paid fare, sex and social class relates with the survival probability. We have a sample of length 891 of a 2224 total passengers, so analysis is made stating hypothesis tests for inference to the population when considered needed."
   ]
  },
  {
   "cell_type": "markdown",
   "metadata": {},
   "source": [
    "## Wrangling data.\n",
    " The usefull columns for this analysis would be Survived, Pclass, Sex, Age, Fare. First we get rid of the other columns of the data frame."
   ]
  },
  {
   "cell_type": "code",
   "execution_count": 2,
   "metadata": {
    "collapsed": false
   },
   "outputs": [
    {
     "name": "stdout",
     "output_type": "stream",
     "text": [
      "   Survived  Pclass  Age     Sex     Fare\n",
      "0         0       3   22    male   7.2500\n",
      "1         1       1   38  female  71.2833\n",
      "2         1       3   26  female   7.9250\n",
      "3         1       1   35  female  53.1000\n",
      "4         0       3   35    male   8.0500\n",
      "5         0       3  NaN    male   8.4583\n",
      "6         0       1   54    male  51.8625\n",
      "7         0       3    2    male  21.0750\n",
      "8         1       3   27  female  11.1333\n",
      "9         1       2   14  female  30.0708\n",
      "Survived    891\n",
      "Pclass      891\n",
      "Age         714\n",
      "Sex         891\n",
      "Fare        891\n",
      "dtype: int64\n"
     ]
    },
    {
     "data": {
      "text/plain": [
       "Survived      int64\n",
       "Pclass        int64\n",
       "Age         float64\n",
       "Sex          object\n",
       "Fare        float64\n",
       "dtype: object"
      ]
     },
     "execution_count": 2,
     "metadata": {},
     "output_type": "execute_result"
    }
   ],
   "source": [
    "titanic_df = titanic_df[['Survived', 'Pclass','Age' , 'Sex' , 'Fare']]\n",
    "\n",
    "#shows dataframe\n",
    "print titanic_df.head(10)\n",
    "\n",
    "\n",
    "#counting elements\n",
    "print titanic_df.count()\n",
    "\n",
    "#looking at object types\n",
    "titanic_df.dtypes\n"
   ]
  },
  {
   "cell_type": "markdown",
   "metadata": {},
   "source": [
    "### Age\n",
    "A possible problem with the Age column are the NaN values that can result in calculation errors (index = 5 above). Fortunately, pandas DataFrames doesn't consider NaN rows by default, for example the count() function has only 714 elements compared to 891 of others. It is the same for other numerical functions, so we just let pandas handle this problem. \n",
    "The main limitation of this solution is that it decreases the number of available data points for analysis."
   ]
  },
  {
   "cell_type": "markdown",
   "metadata": {},
   "source": [
    "### Pclass\n",
    "In the code below we use only first and second class for Pclass variable. All third class passengers are turned into second as the plot below suggest that differences between second and third class are not very significant with respect with fare:\n"
   ]
  },
  {
   "cell_type": "code",
   "execution_count": 4,
   "metadata": {
    "collapsed": false
   },
   "outputs": [
    {
     "data": {
      "text/plain": [
       "<matplotlib.axes._subplots.AxesSubplot at 0xa055e80>"
      ]
     },
     "execution_count": 4,
     "metadata": {},
     "output_type": "execute_result"
    },
    {
     "data": {
      "image/png": "[encoded data removed]",
      "text/plain": [
       "<matplotlib.figure.Figure at 0xa077f98>"
      ]
     },
     "metadata": {},
     "output_type": "display_data"
    }
   ],
   "source": [
    "#plot \n",
    "titanic_df.plot.scatter(x = 'Fare' , y = 'Pclass', xlim = [0,600])"
   ]
  },
  {
   "cell_type": "code",
   "execution_count": 5,
   "metadata": {
    "collapsed": false
   },
   "outputs": [
    {
     "name": "stdout",
     "output_type": "stream",
     "text": [
      "   Survived  Pclass  Age     Sex     Fare\n",
      "0         0       2   22    male   7.2500\n",
      "1         1       1   38  female  71.2833\n",
      "2         1       2   26  female   7.9250\n",
      "3         1       1   35  female  53.1000\n",
      "4         0       2   35    male   8.0500\n"
     ]
    }
   ],
   "source": [
    "#turning third class into second and printing\n",
    "titanic_df.loc[titanic_df['Pclass'] == 3, 'Pclass'] = 2\n",
    "print titanic_df.head()"
   ]
  },
  {
   "cell_type": "markdown",
   "metadata": {},
   "source": [
    "This procedure coarses Pclass data to an easier to deal binary variable, at the expense of loosing some finner information on this field.\n"
   ]
  },
  {
   "cell_type": "markdown",
   "metadata": {},
   "source": [
    "### Checking data\n",
    "Let's look at the histogram plot for all variables:"
   ]
  },
  {
   "cell_type": "code",
   "execution_count": 6,
   "metadata": {
    "collapsed": false,
    "scrolled": true
   },
   "outputs": [
    {
     "data": {
      "image/png": "[encoded data removed]",
      "text/plain": [
       "<matplotlib.figure.Figure at 0xa0201d0>"
      ]
     },
     "metadata": {},
     "output_type": "display_data"
    }
   ],
   "source": [
    "ax1 = titanic_df.hist(bins = 50, figsize = [13,9])\n",
    "#setting label axis\n",
    "ax1[0][0].set(xlabel=\"Passenger age (years)\", ylabel=\"Count\")\n",
    "ax1[0][1].set(xlabel=\"Fare paid\", ylabel=\"Count\")\n",
    "ax1[1][0].set(xlabel=\"Passenger's class\", ylabel=\"Count\")\n",
    "ax1[1][1].set(xlabel=\"Survived? (No = 0, Yes = 1)\", ylabel=\"Count\")\n",
    "#adjusting vertical and horizontal spacing\n",
    "plt.subplots_adjust(hspace = 0.5, wspace = 0.4)\n",
    "plt.show()\n"
   ]
  },
  {
   "cell_type": "markdown",
   "metadata": {},
   "source": [
    "From previous plots we notice that there is an outsider point above 500 for Fare variable. We chose to remove any point above 300 as outsider for Fare data, as we are interested in mean behaviors. Other variables have reasonable behaviors."
   ]
  },
  {
   "cell_type": "code",
   "execution_count": 8,
   "metadata": {
    "collapsed": false
   },
   "outputs": [
    {
     "name": "stdout",
     "output_type": "stream",
     "text": [
      "888\n"
     ]
    }
   ],
   "source": [
    "titanic_df.loc[titanic_df['Fare'] > 300, 'Fare'] = NaN\n",
    "print titanic_df['Fare'].count()"
   ]
  },
  {
   "cell_type": "markdown",
   "metadata": {},
   "source": [
    "We have removed 2 data point only."
   ]
  },
  {
   "cell_type": "markdown",
   "metadata": {},
   "source": [
    "## Data Exploration"
   ]
  },
  {
   "cell_type": "markdown",
   "metadata": {},
   "source": [
    "## 1 - Age/Fare survival statistics\n",
    "\n",
    "We are interested in correlations of survivability and Age or Fare. \n",
    "First we group data in two categories: didn't survive = 0 and survived = 1 and describe general statistics:"
   ]
  },
  {
   "cell_type": "code",
   "execution_count": 9,
   "metadata": {
    "collapsed": false,
    "scrolled": true
   },
   "outputs": [
    {
     "data": {
      "text/html": [
       "<div>\n",
       "<table border=\"1\" class=\"dataframe\">\n",
       "  <thead>\n",
       "    <tr style=\"text-align: right;\">\n",
       "      <th></th>\n",
       "      <th></th>\n",
       "      <th>Age</th>\n",
       "      <th>Fare</th>\n",
       "    </tr>\n",
       "    <tr>\n",
       "      <th>Survived</th>\n",
       "      <th></th>\n",
       "      <th></th>\n",
       "      <th></th>\n",
       "    </tr>\n",
       "  </thead>\n",
       "  <tbody>\n",
       "    <tr>\n",
       "      <th rowspan=\"8\" valign=\"top\">0</th>\n",
       "      <th>count</th>\n",
       "      <td>424.000000</td>\n",
       "      <td>549.000000</td>\n",
       "    </tr>\n",
       "    <tr>\n",
       "      <th>mean</th>\n",
       "      <td>30.626179</td>\n",
       "      <td>22.117887</td>\n",
       "    </tr>\n",
       "    <tr>\n",
       "      <th>std</th>\n",
       "      <td>14.172110</td>\n",
       "      <td>31.388207</td>\n",
       "    </tr>\n",
       "    <tr>\n",
       "      <th>min</th>\n",
       "      <td>1.000000</td>\n",
       "      <td>0.000000</td>\n",
       "    </tr>\n",
       "    <tr>\n",
       "      <th>25%</th>\n",
       "      <td>21.000000</td>\n",
       "      <td>7.854200</td>\n",
       "    </tr>\n",
       "    <tr>\n",
       "      <th>50%</th>\n",
       "      <td>28.000000</td>\n",
       "      <td>10.500000</td>\n",
       "    </tr>\n",
       "    <tr>\n",
       "      <th>75%</th>\n",
       "      <td>39.000000</td>\n",
       "      <td>26.000000</td>\n",
       "    </tr>\n",
       "    <tr>\n",
       "      <th>max</th>\n",
       "      <td>74.000000</td>\n",
       "      <td>263.000000</td>\n",
       "    </tr>\n",
       "    <tr>\n",
       "      <th rowspan=\"8\" valign=\"top\">1</th>\n",
       "      <th>count</th>\n",
       "      <td>290.000000</td>\n",
       "      <td>339.000000</td>\n",
       "    </tr>\n",
       "    <tr>\n",
       "      <th>mean</th>\n",
       "      <td>28.343690</td>\n",
       "      <td>44.289799</td>\n",
       "    </tr>\n",
       "    <tr>\n",
       "      <th>std</th>\n",
       "      <td>14.950952</td>\n",
       "      <td>50.470324</td>\n",
       "    </tr>\n",
       "    <tr>\n",
       "      <th>min</th>\n",
       "      <td>0.420000</td>\n",
       "      <td>0.000000</td>\n",
       "    </tr>\n",
       "    <tr>\n",
       "      <th>25%</th>\n",
       "      <td>19.000000</td>\n",
       "      <td>12.412500</td>\n",
       "    </tr>\n",
       "    <tr>\n",
       "      <th>50%</th>\n",
       "      <td>28.000000</td>\n",
       "      <td>26.000000</td>\n",
       "    </tr>\n",
       "    <tr>\n",
       "      <th>75%</th>\n",
       "      <td>36.000000</td>\n",
       "      <td>56.929200</td>\n",
       "    </tr>\n",
       "    <tr>\n",
       "      <th>max</th>\n",
       "      <td>80.000000</td>\n",
       "      <td>263.000000</td>\n",
       "    </tr>\n",
       "  </tbody>\n",
       "</table>\n",
       "</div>"
      ],
      "text/plain": [
       "                       Age        Fare\n",
       "Survived                              \n",
       "0        count  424.000000  549.000000\n",
       "         mean    30.626179   22.117887\n",
       "         std     14.172110   31.388207\n",
       "         min      1.000000    0.000000\n",
       "         25%     21.000000    7.854200\n",
       "         50%     28.000000   10.500000\n",
       "         75%     39.000000   26.000000\n",
       "         max     74.000000  263.000000\n",
       "1        count  290.000000  339.000000\n",
       "         mean    28.343690   44.289799\n",
       "         std     14.950952   50.470324\n",
       "         min      0.420000    0.000000\n",
       "         25%     19.000000   12.412500\n",
       "         50%     28.000000   26.000000\n",
       "         75%     36.000000   56.929200\n",
       "         max     80.000000  263.000000"
      ]
     },
     "execution_count": 9,
     "metadata": {},
     "output_type": "execute_result"
    }
   ],
   "source": [
    "titanic1_df =  titanic_df[['Survived','Age','Fare']]\n",
    "titanic1_survival_group = titanic1_df.groupby('Survived')\n",
    "titanic1_survival_group.describe()"
   ]
  },
  {
   "cell_type": "markdown",
   "metadata": {},
   "source": [
    "Again, total count for Age and Fare are different because of NaN values. The mean age of people who survived (28.3) is slightly smaller than of people who didn't survive (30.6). Also the mean fare paid by people who survived (48.4) is larger than paid by people who didn't survive (22.1).\n",
    "Let's look at the histogram representation of the columns, first for non-survivors and then for survivors:"
   ]
  },
  {
   "cell_type": "code",
   "execution_count": 10,
   "metadata": {
    "collapsed": false
   },
   "outputs": [
    {
     "data": {
      "text/plain": [
       "<matplotlib.text.Text at 0x9249358>"
      ]
     },
     "execution_count": 10,
     "metadata": {},
     "output_type": "execute_result"
    },
    {
     "data": {
      "image/png": "[encoded data removed]",
      "text/plain": [
       "<matplotlib.figure.Figure at 0xa48e358>"
      ]
     },
     "metadata": {},
     "output_type": "display_data"
    }
   ],
   "source": [
    "# ploting from group that didn't survive\n",
    "\n",
    "ax2 = titanic1_survival_group.get_group(0).hist(bins = 50, figsize = [13,4],layout = [1,2])\n",
    "ax2[0][0].set(xlabel=\"Passenger age (years)\", ylabel=\"Count\")\n",
    "ax2[0][1].set(xlabel=\"Fare paid\", ylabel=\"Count\")\n",
    "plt.suptitle(\"Histograms for nonsurvivor's age and paid fare\", fontsize=14, x=0.5,y=1.1)"
   ]
  },
  {
   "cell_type": "code",
   "execution_count": 11,
   "metadata": {
    "collapsed": false
   },
   "outputs": [
    {
     "data": {
      "text/plain": [
       "<matplotlib.text.Text at 0xa499240>"
      ]
     },
     "execution_count": 11,
     "metadata": {},
     "output_type": "execute_result"
    },
    {
     "data": {
      "image/png": "[encoded data removed]",
      "text/plain": [
       "<matplotlib.figure.Figure at 0xa024ac8>"
      ]
     },
     "metadata": {},
     "output_type": "display_data"
    }
   ],
   "source": [
    "# ploting from group that survived\n",
    "\n",
    "ax3 = titanic1_survival_group.get_group(1).hist(bins = 50, figsize = [13,4],layout = [1,2])\n",
    "ax3[0][0].set(xlabel=\"Passenger age (years)\", ylabel=\"Count\")\n",
    "ax3[0][1].set(xlabel=\"Fare paid\", ylabel=\"Count\")\n",
    "plt.suptitle(\"Histograms for survivor's age and paid fare\", fontsize=14, x=0.5,y=1.1)"
   ]
  },
  {
   "cell_type": "markdown",
   "metadata": {},
   "source": [
    "The overall shape of the distributions are the same for each survival group: normal for Age and skewed for Fare. \n",
    "\n",
    "We have samples (891 or 714) of the overall tripulation data (2224), so we need statistical analysis for further analysis. We build two hypothesis tests to check the significance of above mentioned mean differences on the general population. For Age(a) and Fare(f), the Null hypothesis is that both population means for survivors (muS(af)) and non-survivors (muN(af)) are the same H0 : muS(af) = muN(af) and alternative hypothesis are that mean age of survivors is smaller than non_survivors age (HA: muS(a) < muN(a)) and mean fare of survivors is larger than non-survivors fare HA: muS(f) > muN(f).\n",
    "\n",
    "We don't have the statistical variance for population, some we use one tail t-tests. We set an alpha level of 0.01 and look for t_critical = 2.34 on a t-table (approximate value for both sample sizes). Next we calculate the standard error and t-value for Age and Fare:\n"
   ]
  },
  {
   "cell_type": "code",
   "execution_count": 12,
   "metadata": {
    "collapsed": false
   },
   "outputs": [
    {
     "name": "stdout",
     "output_type": "stream",
     "text": [
      "                Age       Fare\n",
      "Survived                      \n",
      "0         30.626179  22.117887\n",
      "1         28.343690  44.289799\n",
      "                Age       Fare\n",
      "Survived                      \n",
      "0         14.155388  31.359607\n",
      "1         14.925152  50.395829\n",
      "          Age  Fare\n",
      "Survived           \n",
      "0         424   549\n",
      "1         290   339\n"
     ]
    }
   ],
   "source": [
    "#Organizing data that we will need\n",
    "\n",
    "titanic1_survived_mean = titanic1_survival_group.mean()\n",
    "titanic1_survived_std = titanic1_survival_group.std(ddof = 0)\n",
    "titanic1_survived_count = titanic1_survival_group.count()\n",
    "\n",
    "print titanic1_survived_mean\n",
    "print titanic1_survived_std\n",
    "print titanic1_survived_count"
   ]
  },
  {
   "cell_type": "code",
   "execution_count": 13,
   "metadata": {
    "collapsed": false
   },
   "outputs": [
    {
     "name": "stdout",
     "output_type": "stream",
     "text": [
      "2.0491404625\n",
      "7.27704797077\n"
     ]
    }
   ],
   "source": [
    "# A function to calculate standard error and another to calculate t\n",
    "\n",
    "def stderror(s1,s2,n1,n2):\n",
    "    STE = 0\n",
    "    STE = sqrt(s1**2/n1 + s2**2/n2)\n",
    "    return STE\n",
    "    \n",
    "def t_value(x1, x2, STE):\n",
    "    t = (x1 - x2)/STE\n",
    "    return t\n",
    "\n",
    "# Now we use the values from the table to calculate the statistics\n",
    "\n",
    "#Age\n",
    "\n",
    "stderror_age = stderror(titanic1_survived_std['Age'][0],titanic1_survived_std['Age'][1],titanic1_survived_count['Age'][0], \\\n",
    "                        titanic1_survived_count['Age'][1])\n",
    "age_t_value =  t_value(titanic1_survived_mean['Age'][0],titanic1_survived_mean['Age'][1],stderror_age)\n",
    "print age_t_value\n",
    "\n",
    "#Fare\n",
    "\n",
    "stderror_fare = stderror(titanic1_survived_std['Fare'][0],titanic1_survived_std['Fare'][1],titanic1_survived_count['Fare'][0], \\\n",
    "                        titanic1_survived_count['Fare'][1])\n",
    "fare_t_value =  t_value(titanic1_survived_mean['Fare'][1],titanic1_survived_mean['Fare'][0],stderror_fare)\n",
    "print fare_t_value"
   ]
  },
  {
   "cell_type": "markdown",
   "metadata": {},
   "source": [
    "We cannot reject the Null hypothesis of equality of Ages at alpha = 0.01 because 2.04 < t-critical, so the difference is not statistical significant in this case. In another hand, a t-score of 6.85 is very high and significant in the case o Fare. So it is very likely that people who paid more were more likely to survive the disaster."
   ]
  },
  {
   "cell_type": "markdown",
   "metadata": {},
   "source": [
    "## 2 Survival and gender"
   ]
  },
  {
   "cell_type": "code",
   "execution_count": 14,
   "metadata": {
    "collapsed": false
   },
   "outputs": [
    {
     "name": "stdout",
     "output_type": "stream",
     "text": [
      "        Survived\n",
      "Sex             \n",
      "female        81\n",
      "male         468\n",
      "        Survived\n",
      "Sex             \n",
      "female       233\n",
      "male         109\n"
     ]
    },
    {
     "data": {
      "text/plain": [
       "([<matplotlib.patches.Wedge at 0xcd139b0>,\n",
       "  <matplotlib.patches.Wedge at 0xcd203c8>],\n",
       " [<matplotlib.text.Text at 0xcd13f28>, <matplotlib.text.Text at 0xcd20ba8>],\n",
       " [<matplotlib.text.Text at 0xcd13fd0>, <matplotlib.text.Text at 0xcd20c50>])"
      ]
     },
     "execution_count": 14,
     "metadata": {},
     "output_type": "execute_result"
    },
    {
     "data": {
      "image/png": "[encoded data removed]",
      "text/plain": [
       "<matplotlib.figure.Figure at 0xcabb9e8>"
      ]
     },
     "metadata": {},
     "output_type": "display_data"
    }
   ],
   "source": [
    "#new dataframe\n",
    "titanic2_df = titanic_df[['Survived' ,'Sex']]\n",
    "\n",
    "#group by survival\n",
    "titanic2_survival_group = titanic2_df.groupby('Survived')\n",
    "\n",
    "#counting elements in each group combination male\\female survive\\non-survive\n",
    "survivors_by_sex = titanic2_survival_group.get_group(0).groupby('Sex').count()\n",
    "non_survivors_by_sex = titanic2_survival_group.get_group(1).groupby('Sex').count()\n",
    "print survivors_by_sex\n",
    "print non_survivors_by_sex\n",
    "\n",
    "female_survivor = non_survivors_by_sex['Survived'][0]\n",
    "male_survivor = non_survivors_by_sex['Survived'][1]\n",
    "female_non_survivor = survivors_by_sex['Survived'][0]\n",
    "male_non_survivor = survivors_by_sex['Survived'][1]\n",
    "\n",
    "\n",
    "#calculate plot sizes\n",
    "sizesM = [male_survivor,male_non_survivor]\n",
    "sizesF = [female_survivor,female_non_survivor]\n",
    "labelM = ['Male survivor','Male non-survivor']\n",
    "labelF = ['Female survivor', 'Female non-survivor']\n",
    "\n",
    "\n",
    "#pie plot for female\n",
    "plt.pie(sizesF,labels = labelF, autopct='%1.1f%%')\n"
   ]
  },
  {
   "cell_type": "code",
   "execution_count": 15,
   "metadata": {
    "collapsed": false
   },
   "outputs": [
    {
     "data": {
      "text/plain": [
       "([<matplotlib.patches.Wedge at 0xcf18128>,\n",
       "  <matplotlib.patches.Wedge at 0xcf18b00>],\n",
       " [<matplotlib.text.Text at 0xcf186a0>, <matplotlib.text.Text at 0xcf23320>],\n",
       " [<matplotlib.text.Text at 0xcf18748>, <matplotlib.text.Text at 0xcf233c8>])"
      ]
     },
     "execution_count": 15,
     "metadata": {},
     "output_type": "execute_result"
    },
    {
     "data": {
      "image/png": "[encoded data removed]",
      "text/plain": [
       "<matplotlib.figure.Figure at 0xc2f3b00>"
      ]
     },
     "metadata": {},
     "output_type": "display_data"
    }
   ],
   "source": [
    "#pie plot for male \n",
    "plt.pie(sizesM,labels = labelM,autopct='%1.1f%%')"
   ]
  },
  {
   "cell_type": "markdown",
   "metadata": {
    "collapsed": false
   },
   "source": [
    "We see that roughly 3 out of 4 women survived the disaster while only 1 out of 5 men survived in this sample. "
   ]
  },
  {
   "cell_type": "code",
   "execution_count": 16,
   "metadata": {
    "collapsed": false
   },
   "outputs": [
    {
     "data": {
      "text/plain": [
       "([<matplotlib.patches.Wedge at 0xd08f128>,\n",
       "  <matplotlib.patches.Wedge at 0xd08fb00>,\n",
       "  <matplotlib.patches.Wedge at 0xd09f748>,\n",
       "  <matplotlib.patches.Wedge at 0xd0ab390>],\n",
       " [<matplotlib.text.Text at 0xd08f6a0>,\n",
       "  <matplotlib.text.Text at 0xd09f320>,\n",
       "  <matplotlib.text.Text at 0xd09ff28>,\n",
       "  <matplotlib.text.Text at 0xd0abb70>],\n",
       " [<matplotlib.text.Text at 0xd08f748>,\n",
       "  <matplotlib.text.Text at 0xd09f3c8>,\n",
       "  <matplotlib.text.Text at 0xd09ffd0>,\n",
       "  <matplotlib.text.Text at 0xd0abc18>])"
      ]
     },
     "execution_count": 16,
     "metadata": {},
     "output_type": "execute_result"
    },
    {
     "data": {
      "image/png": "[encoded data removed]",
      "text/plain": [
       "<matplotlib.figure.Figure at 0xcd5c320>"
      ]
     },
     "metadata": {},
     "output_type": "display_data"
    }
   ],
   "source": [
    "#overall pie plot\n",
    "\n",
    "plt.pie(sizesF+sizesM,labels = labelF + labelM, autopct='%1.1f%%')"
   ]
  },
  {
   "cell_type": "markdown",
   "metadata": {},
   "source": [
    "Next we use above data to test if the variables Survived and Sex are independent for entire population. We use Chi squared test for independency of variables. To be consistent, we set alpha level to 0.01 and set the Null hypothesis H0: Survived and Sex are independent and alternative hypothesis HA: Survived and Sex are dependent. The degrees of freedom are (2-1) * (2 - 1) = 1\n",
    "Next we calculated Chi squared statistics:"
   ]
  },
  {
   "cell_type": "code",
   "execution_count": 17,
   "metadata": {
    "collapsed": false
   },
   "outputs": [
    {
     "name": "stdout",
     "output_type": "stream",
     "text": [
      "          Sex\n",
      "Survived     \n",
      "0         549\n",
      "1         342\n"
     ]
    }
   ],
   "source": [
    "#data we will need\n",
    "survival_count = titanic2_survival_group.count()\n",
    "print survival_count \n"
   ]
  },
  {
   "cell_type": "code",
   "execution_count": 18,
   "metadata": {
    "collapsed": false
   },
   "outputs": [
    {
     "name": "stdout",
     "output_type": "stream",
     "text": [
      "        Survived\n",
      "Sex             \n",
      "female       314\n",
      "male         577\n"
     ]
    }
   ],
   "source": [
    "titanic2_sex_group = titanic2_df.groupby('Sex')\n",
    "sex_count = titanic2_sex_group.count()\n",
    "print sex_count\n"
   ]
  },
  {
   "cell_type": "code",
   "execution_count": 19,
   "metadata": {
    "collapsed": false
   },
   "outputs": [
    {
     "name": "stdout",
     "output_type": "stream",
     "text": [
      "[ 193.47474747  355.52525253  120.52525253  221.47474747]\n"
     ]
    }
   ],
   "source": [
    "# first calculate an array of expected frequencies\n",
    "\n",
    "n_f = sex_count.loc['female'][0]\n",
    "n_m = sex_count.loc['male'][0]\n",
    "n_0 = survival_count.loc[0][0]\n",
    "n_1 =survival_count.loc[1][0]\n",
    "n = n_f + n_m  # = n_0 + n_1\n",
    "\n",
    "def expect_value(n1, n2,n):\n",
    "    value = float(n1)*float(n2)/float(n)\n",
    "    return value\n",
    "        \n",
    "Ef0 = expect_value(n_f,n_0,n)\n",
    "Em0 = expect_value(n_m,n_0,n)\n",
    "Ef1 = expect_value(n_f,n_1,n)\n",
    "Em1 = expect_value(n_m,n_1,n)\n",
    "\n",
    "expected_freq_array = np.array([Ef0,Em0,Ef1,Em1])\n",
    "print expected_freq_array"
   ]
  },
  {
   "cell_type": "code",
   "execution_count": 20,
   "metadata": {
    "collapsed": false
   },
   "outputs": [
    {
     "name": "stdout",
     "output_type": "stream",
     "text": [
      "[ 81 468 233 109]\n"
     ]
    }
   ],
   "source": [
    "# next the observation frequency\n",
    "# values were calculated earlier\n",
    "\n",
    "observed_freq_array = np.array([female_non_survivor, male_non_survivor,female_survivor,male_survivor])\n",
    "print observed_freq_array"
   ]
  },
  {
   "cell_type": "code",
   "execution_count": 21,
   "metadata": {
    "collapsed": false
   },
   "outputs": [
    {
     "name": "stdout",
     "output_type": "stream",
     "text": [
      "263.050574071\n"
     ]
    }
   ],
   "source": [
    "#finally the chi squared statistics\n",
    "\n",
    "def chi(O,E):\n",
    "    chi = 0 \n",
    "    chi_part = 0\n",
    "    for i in range(len(O)):\n",
    "        chi_part = (O[i]-E[i])**2/E[i]\n",
    "        chi += chi_part\n",
    "    return chi\n",
    "\n",
    "print chi(observed_freq_array, expected_freq_array) "
   ]
  },
  {
   "cell_type": "markdown",
   "metadata": {},
   "source": [
    "The value 263 is very large for a Chi squared critical value. We use a calculator to get the a p-value < 0.0001. So we reject the null hypothesis that Sex and survivability are independent with a 99.9% confidence."
   ]
  },
  {
   "cell_type": "markdown",
   "metadata": {},
   "source": [
    "## 3 Fare Pclass correlation"
   ]
  },
  {
   "cell_type": "code",
   "execution_count": 22,
   "metadata": {
    "collapsed": false
   },
   "outputs": [
    {
     "name": "stdout",
     "output_type": "stream",
     "text": [
      "         Pclass     Fare\n",
      "Pclass  1.00000 -0.64895\n",
      "Fare   -0.64895  1.00000\n"
     ]
    },
    {
     "data": {
      "text/plain": [
       "<matplotlib.axes._subplots.AxesSubplot at 0xd109b38>"
      ]
     },
     "execution_count": 22,
     "metadata": {},
     "output_type": "execute_result"
    },
    {
     "data": {
      "image/png": "[encoded data removed]",
      "text/plain": [
       "<matplotlib.figure.Figure at 0xd009320>"
      ]
     },
     "metadata": {},
     "output_type": "display_data"
    }
   ],
   "source": [
    "#Setting columns\n",
    "titanic3_df =  titanic_df[['Pclass' , 'Fare']]\n",
    "\n",
    "#Calculating correlation (Person) and plotting\n",
    "print titanic3_df.corr()\n",
    "titanic3_df.plot.scatter(x = 'Fare' , y = 'Pclass', xlim = [0,600])"
   ]
  },
  {
   "cell_type": "markdown",
   "metadata": {
    "collapsed": false
   },
   "source": [
    "There is a moderate negative correlation between fare and class. This means that first class persons were more likely to have paid more to be onboard."
   ]
  },
  {
   "cell_type": "markdown",
   "metadata": {},
   "source": [
    "## 4  First class women survival"
   ]
  },
  {
   "cell_type": "markdown",
   "metadata": {},
   "source": [
    "The above comments indicates that first class women were very likely to have survived the disaster:"
   ]
  },
  {
   "cell_type": "code",
   "execution_count": 24,
   "metadata": {
    "collapsed": false
   },
   "outputs": [
    {
     "name": "stdout",
     "output_type": "stream",
     "text": [
      "               Survived\n",
      "Sex    Pclass          \n",
      "female 1       0.968085\n",
      "       2       0.645455\n",
      "male   1       0.368852\n",
      "       2       0.140659\n",
      "               Survived\n",
      "Sex    Pclass          \n",
      "female 1             94\n",
      "       2            220\n",
      "male   1            122\n",
      "       2            455\n"
     ]
    }
   ],
   "source": [
    "titanic4_df = titanic_df[['Pclass','Survived','Sex']]\n",
    "\n",
    "titanic4_group = titanic4_df.groupby(['Sex','Pclass'])\n",
    "\n",
    "# survival data are 0 or 1.  So we calculate the mean in each case to have percentages of survivability\n",
    "# We also show count to get the idea of sample size.\n",
    "\n",
    "print titanic4_group.mean()\n",
    "print titanic4_group.count()\n"
   ]
  },
  {
   "cell_type": "markdown",
   "metadata": {},
   "source": [
    "So almost 97% of first class females survived, compared with 14% of male second class in this sample. The is a strong indication that Sex and social class were determinant for survivabilty in titanic disaster."
   ]
  },
  {
   "cell_type": "markdown",
   "metadata": {
    "collapsed": false
   },
   "source": [
    "# General conclusion\n",
    "\n",
    "## Summary\n",
    "\n",
    "We have performed hypothesis tests to understand how Age, Sex and Fare are related to survivability in titanic's disaster. We found values of 2.05 and 7.28 for one tail t-critical value of age and fare variables respectively. Those values are sufficient to conclude with a 99% confidence level that mean age is not related with survivability, while survivors have paid a larger mean fare for trip ticket. We also found a chi squared statistics of 263 while comparing Survived and Sex variables. This is more than enough to say with a 99% confidence level that Sex and Survived are not independent.\n",
    "\n",
    "We have continued the analysis by estabilishing a correlation between Pclass and Fare variables of -0.59. This relates Pclass and Fare, and we hope that this brings us closer to answer the rich part of the question. Next we've calculated the percentages os male/female survivors/non_survivors and reached the striking values of 97% survival rate for first class women and 14% of second class men.\n",
    "\n",
    "So 'rich and women first' is a reasonable answer for the original question.\n",
    "\n",
    "## Limitations\n",
    "\n",
    "\n",
    "- The first part of the analysis is more rigorous and the conclusions can be infered to general population (99% confidence). The second part lacks statistical analysis, and can be stated only for the sample. We use this only as further indication for our conclusion. To improve quality of the analysis we could apply other hypothesis tests to investigate the population behavior for these categories.\n",
    "\n",
    "- The answer is only reasonable because our analysis states correlation while the answer implies causation, which is not the case. It is reasonable to believe that women and rich had a better chance of survival because they were rich and women, but the analysis doesn't state that. \n",
    "\n",
    "- Supplied data is very good in general. We have disregarded NaN data values for Age, 2 outlier data point for Fare and turned the third class into second class for Pclass variable. This treatment has decreased a little our sample size and limits the analysis to focusing on the general mean behavior.\n",
    "\n",
    "- Also our analysis lack consideration of variables that might be important, such as the location of the passenger in the ship during the crash event, or if he was a member of the tripulation or not.\n",
    "\n"
   ]
  },
  {
   "cell_type": "markdown",
   "metadata": {},
   "source": [
    "# References\n",
    "\n",
    "http://pandas.pydata.org/pandas-docs/stable/generated/pandas.read_csv.html#pandas.read_csv\n",
    "http://stackoverflow.com/questions/31760509/how-to-plot-a-ylabel-per-subplot-using-pandas-dataframe-plot-function\n",
    "http://matplotlib.org/api/pyplot_api.html#matplotlib.pyplot.suptitle\n",
    "http://stackoverflow.com/questions/6541123/improve-subplot-size-spacing-with-many-subplots-in-matplotlib\n",
    "http://stackoverflow.com/questions/18196203/how-to-conditionally-update-dataframe-column-in-pandas\n",
    "http://stackoverflow.com/questions/21608228/conditional-replace-pandas\n",
    "http://stackoverflow.com/questions/17812978/how-to-plot-two-columns-of-a-pandas-data-frame-using-points\n",
    "http://pandas.pydata.org/pandas-docs/stable/generated/pandas.core.groupby.GroupBy.get_group.html\n",
    "http://www.sjsu.edu/faculty/gerstman/StatPrimer/t-table.pdf\n",
    "http://stattrek.com/hypothesis-test/difference-in-means.aspx?Tutorial=AP\n",
    "http://stackoverflow.com/questions/17573814/count-occurrences-of-certain-words-in-pandas-dataframe\n",
    "http://matplotlib.org/examples/pie_and_polar_charts/pie_demo_features.html\n",
    "http://stattrek.com/online-calculator/chi-square.aspx"
   ]
  },
  {
   "cell_type": "code",
   "execution_count": null,
   "metadata": {
    "collapsed": true
   },
   "outputs": [],
   "source": []
  }
 ],
 "metadata": {
  "kernelspec": {
   "display_name": "Python 2",
   "language": "python",
   "name": "python2"
  },
  "language_info": {
   "codemirror_mode": {
    "name": "ipython",
    "version": 2
   },
   "file_extension": ".py",
   "mimetype": "text/x-python",
   "name": "python",
   "nbconvert_exporter": "python",
   "pygments_lexer": "ipython2",
   "version": "2.7.11"
  }
 },
 "nbformat": 4,
 "nbformat_minor": 0
}
