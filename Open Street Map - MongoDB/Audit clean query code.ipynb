{
 "cells": [
  {
   "cell_type": "markdown",
   "metadata": {},
   "source": [
    "# Python code for the Data wrangling Open Street Map project"
   ]
  },
  {
   "cell_type": "markdown",
   "metadata": {},
   "source": [
    "By - Alexandre Medeiros Gonçalves"
   ]
  },
  {
   "cell_type": "code",
   "execution_count": 1,
   "metadata": {
    "collapsed": false
   },
   "outputs": [],
   "source": [
    "import xml.etree.cElementTree as ET\n",
    "import pprint\n",
    "import re\n",
    "from collections import defaultdict\n",
    "import codecs\n",
    "import json\n",
    "from pymongo import MongoClient\n"
   ]
  },
  {
   "cell_type": "markdown",
   "metadata": {},
   "source": [
    "### Producing a 50 times smaller file to test code (5.4Mb)"
   ]
  },
  {
   "cell_type": "code",
   "execution_count": 2,
   "metadata": {
    "collapsed": true
   },
   "outputs": [],
   "source": [
    "OSM_FILE = \"rio-de-janeiro_brazil.osm\"  \n",
    "\n",
    "# Udacity lesson reference for creating a smaller copy of the file to test code. \n",
    "#The function writes lines in the new files for every multiple of 'times' lines read from the original file.\n",
    "\n",
    "def get_element(osm_file, tags=('node', 'way', 'relation')):\n",
    "    \"\"\"Yield element if it is the right type of tag\n",
    "\n",
    "    Reference:\n",
    "    http://stackoverflow.com/questions/3095434/inserting-newlines-in-xml-file-generated-via-xml-etree-elementtree-in-python\n",
    "    \"\"\"\n",
    "    context = ET.iterparse(osm_file, events=('start', 'end'))\n",
    "    _, root = next(context)\n",
    "    for event, elem in context:\n",
    "        if event == 'end' and elem.tag in tags:\n",
    "            yield elem\n",
    "            root.clear()\n",
    "\n",
    "def write_file(SAMPLE_FILE, times):\n",
    "    with open(SAMPLE_FILE, 'wb') as output:\n",
    "        output.write('<?xml version=\"1.0\" encoding=\"UTF-8\"?>\\n')\n",
    "        output.write('<osm>\\n  ')\n",
    "\n",
    "        # Write every 10th top level element\n",
    "        for i, element in enumerate(get_element(OSM_FILE)):\n",
    "            if i % times == 0:\n",
    "                output.write(ET.tostring(element, encoding='utf-8'))\n",
    "\n",
    "        output.write('</osm>')       \n",
    "     "
   ]
  },
  {
   "cell_type": "code",
   "execution_count": 3,
   "metadata": {
    "collapsed": true
   },
   "outputs": [],
   "source": [
    "write_file(\"50_sample_rio-de-janeiro.osm\" , 50)  "
   ]
  },
  {
   "cell_type": "code",
   "execution_count": 4,
   "metadata": {
    "collapsed": false
   },
   "outputs": [],
   "source": [
    "#Defining variable for treated file\n",
    "\n",
    "OSM_FILE = \"rio-de-janeiro_brazil.osm\""
   ]
  },
  {
   "cell_type": "markdown",
   "metadata": {},
   "source": [
    "### Next we adapt the lesson quizes to have a quick overview of data"
   ]
  },
  {
   "cell_type": "markdown",
   "metadata": {},
   "source": [
    "## QUIZ 1 - Iterative parsing - tag-number dictionary"
   ]
  },
  {
   "cell_type": "code",
   "execution_count": 5,
   "metadata": {
    "collapsed": false
   },
   "outputs": [
    {
     "name": "stdout",
     "output_type": "stream",
     "text": [
      "{'bounds': 1,\n",
      " 'member': 24723,\n",
      " 'nd': 1533886,\n",
      " 'node': 1286043,\n",
      " 'osm': 1,\n",
      " 'relation': 3741,\n",
      " 'tag': 474958,\n",
      " 'way': 144776}\n"
     ]
    }
   ],
   "source": [
    "#fill a dictionary cointaining all tags and correspondent number os appearences in the document\n",
    "\n",
    "def count_tags(filename):\n",
    "    tagcounts = {}\n",
    "    for event, elem in ET.iterparse(filename):\n",
    "        if event == 'end':\n",
    "            if elem.tag not in tagcounts:\n",
    "                tagcounts[elem.tag] = 1\n",
    "            else:\n",
    "                tagcounts[elem.tag] += 1\n",
    "        elem.clear() # discard the element\n",
    "\n",
    "    return tagcounts\n",
    "\n",
    "tags = count_tags(OSM_FILE)\n",
    "pprint.pprint(tags)\n",
    " \n",
    "    \n"
   ]
  },
  {
   "cell_type": "markdown",
   "metadata": {},
   "source": [
    "## Quiz 2 - tag types "
   ]
  },
  {
   "cell_type": "code",
   "execution_count": 6,
   "metadata": {
    "collapsed": false
   },
   "outputs": [
    {
     "name": "stdout",
     "output_type": "stream",
     "text": [
      "{'lower': 402696, 'lower_colon': 49089, 'other': 23173, 'problemchars': 0}\n"
     ]
    }
   ],
   "source": [
    "#patterns to check (lowercase, lowercase with 1 colon and problematic chars)\n",
    "lower = re.compile(r'^([a-z]|_)*$')\n",
    "lower_colon = re.compile(r'^([a-z]|_)*:([a-z]|_)*$')\n",
    "problemchars = re.compile(r'[=\\+/&<>;\\'\"\\?%#$@\\,\\. \\t\\r\\n]')\n",
    "\n",
    "#check patterns against the values of attibute k of tags\n",
    "\n",
    "def key_type(element, keys):\n",
    "    if element.tag == \"tag\":\n",
    "        kvalue = element.get('k')\n",
    "        if problemchars.search(kvalue) != None:\n",
    "            keys['problemchars']+=1\n",
    "        elif lower.search(kvalue)!= None:\n",
    "            keys['lower']+= 1\n",
    "        elif lower_colon.search(kvalue)!= None:\n",
    "            keys['lower_colon']+= 1\n",
    "        else:\n",
    "            keys['other']+=1\n",
    "        \n",
    "        pass\n",
    "        \n",
    "    return keys\n",
    "\n",
    "#defines the initial dictionary and iterates on the file (iterparse).\n",
    "\n",
    "def process_map(filename):\n",
    "    keys = {\"lower\": 0, \"lower_colon\": 0, \"problemchars\": 0, \"other\": 0}\n",
    "    for _, element in ET.iterparse(filename):\n",
    "        keys = key_type(element, keys)\n",
    "\n",
    "    return keys\n",
    "\n",
    "\n",
    "keys = process_map(OSM_FILE)\n",
    "pprint.pprint(keys)\n",
    "\n"
   ]
  },
  {
   "cell_type": "markdown",
   "metadata": {
    "collapsed": true
   },
   "source": [
    "There are many other values and no problemchars. We investigate the first."
   ]
  },
  {
   "cell_type": "markdown",
   "metadata": {},
   "source": [
    "## Auditing 'other' k values - portuguese translated entries in uppercase"
   ]
  },
  {
   "cell_type": "code",
   "execution_count": 7,
   "metadata": {
    "collapsed": false
   },
   "outputs": [
    {
     "data": {
      "text/plain": [
       "{'IPP:BAIRRO': u'Maracan\\xe3',\n",
       " 'IPP:CHAVE': '11874',\n",
       " 'IPP:CODATIVIDA': '0',\n",
       " 'IPP:CODBAIRRO': '032',\n",
       " 'IPP:CODIGO': '22988',\n",
       " 'IPP:CODLINFERR': '1830',\n",
       " 'IPP:COD_INEP': '33083070',\n",
       " 'IPP:COD_QUADRA': '285A16454',\n",
       " 'IPP:COD_SMA': '011494',\n",
       " 'IPP:CRE': '05',\n",
       " 'IPP:CodFavela': '294',\n",
       " 'IPP:DESIGNACAO': '0918203',\n",
       " 'IPP:ENDERECO': u'Rua Adail, 49\\xa0\\xa0',\n",
       " 'IPP:ENDNOVO': 'http://webapp.sme.rio.rj.gov.br/jcartela/publico/pesquisa.do?idSetor=11163&cmd=load',\n",
       " 'IPP:FLG_VALIDA': 'S',\n",
       " 'IPP:OBS': u'Segundo a servente da UE as infoma\\xe7\\xf5es est\\xe3o corretas.',\n",
       " 'IPP:TELEFONES': '2413-4755',\n",
       " 'parking:condition:left': 'free',\n",
       " 'parking:condition:right': 'free',\n",
       " 'parking:lane:both': 'no_stopping',\n",
       " 'parking:lane:left': 'parallel',\n",
       " 'parking:lanes:both': 'no_parking',\n",
       " 'seamark:buoy_lateral:colour': 'red',\n",
       " 'seamark:buoy_lateral:shape': 'pillar',\n",
       " 'seamark:light:colour': 'red',\n",
       " 'seamark:pipeline_submarine:category': 'oil'}"
      ]
     },
     "execution_count": 7,
     "metadata": {},
     "output_type": "execute_result"
    }
   ],
   "source": [
    "def show_category_other(filename,times): #prints every 'times' occurences\n",
    "    i=0\n",
    "    other = {}\n",
    "    for _, element in ET.iterparse(filename):\n",
    "        if element.tag == \"tag\":\n",
    "            kvalue = element.get('k')\n",
    "            vvalue = element.get('v')\n",
    "            if problemchars.search(kvalue) == None and lower.search(kvalue)== None and lower_colon.search(kvalue)== None:\n",
    "                if i % times == 0:\n",
    "                    other[kvalue] = vvalue\n",
    "            i+=1\n",
    "            pass\n",
    "        \n",
    "    return other\n",
    "\n",
    "show_category_other(OSM_FILE,500)"
   ]
  },
  {
   "cell_type": "markdown",
   "metadata": {},
   "source": [
    "There are two main problems:\n",
    "- two colon k types, that we will be dealt in the file transformation to json. \n",
    "\n",
    "- k-types translated to portuguese in uppercase.  \n",
    "\n",
    "How big is this problem in the case of IPP:BAIRRO? (suburb)"
   ]
  },
  {
   "cell_type": "code",
   "execution_count": 8,
   "metadata": {
    "collapsed": false
   },
   "outputs": [
    {
     "name": "stdout",
     "output_type": "stream",
     "text": [
      "1238\n"
     ]
    }
   ],
   "source": [
    "count = 0\n",
    "for _, element in ET.iterparse(OSM_FILE):\n",
    "    for child in element:\n",
    "        if child.get('k') == \"IPP:BAIRRO\":\n",
    "            count += 1\n",
    "print count        "
   ]
  },
  {
   "cell_type": "markdown",
   "metadata": {},
   "source": [
    "We chose to fix this translation back to english for two important examples: IPP:BAIRRO to addr:suburb  and  IPP:ENDERECO to addr:street. The last is not an exact match, as addresses in portuguese (and in this inputs) have the format \"street,house number\" so we need to get only what is before coma.\n",
    "\n",
    "Here we chose to write another osm file to save changes, as we would like to audit street names next with the correct k values. We use the get_elements function and write a function very similar to write_file to rewrite the file with the proposed corrections only."
   ]
  },
  {
   "cell_type": "code",
   "execution_count": 9,
   "metadata": {
    "collapsed": false
   },
   "outputs": [
    {
     "name": "stdout",
     "output_type": "stream",
     "text": [
      "ok\n"
     ]
    }
   ],
   "source": [
    "def write_file_translation_fixes(SAMPLE_FILE):\n",
    "    with open(SAMPLE_FILE, 'wb') as output:\n",
    "        output.write('<?xml version=\"1.0\" encoding=\"UTF-8\"?>\\n')\n",
    "        output.write('<osm>\\n  ')\n",
    "\n",
    "        for element in get_element(OSM_FILE):\n",
    "            for child in element:\n",
    "\n",
    "                if child.tag == \"tag\":\n",
    "                    kvalue = child.get('k')\n",
    "                    vvalue = child.get('v')\n",
    "\n",
    "                    if kvalue == \"IPP:BAIRRO\":\n",
    "                        child.set('k', 'addr:suburb') #translation\n",
    "\n",
    "                    elif kvalue == \"IPP:ENDERECO\":\n",
    "                        child.set('k', \"addr:street\")\n",
    "                        child.set('v', vvalue.split(\",\")[0]) #In portuguese, full address (ENDERECO) \n",
    "                                                             # has the format street, house number \n",
    "                    pass\n",
    "            output.write(ET.tostring(element, encoding='utf-8'))     \n",
    "               \n",
    "        output.write('</osm>') \n",
    "\n",
    "write_file_translation_fixes(\"rio-de-janeiro_brazil_kfixed.osm\")\n",
    "\n",
    "OSM_FILE = \"rio-de-janeiro_brazil_kfixed.osm\"  #updating the osm_file variable for further use\n",
    "\n",
    "print \"ok\""
   ]
  },
  {
   "cell_type": "code",
   "execution_count": 10,
   "metadata": {
    "collapsed": false
   },
   "outputs": [
    {
     "name": "stdout",
     "output_type": "stream",
     "text": [
      "{'problemchars': 0, 'lower': 402696, 'other': 21111, 'lower_colon': 51151}\n"
     ]
    }
   ],
   "source": [
    "print process_map(OSM_FILE)\n"
   ]
  },
  {
   "cell_type": "markdown",
   "metadata": {},
   "source": [
    "We have fixed 2062 entries total."
   ]
  },
  {
   "cell_type": "markdown",
   "metadata": {},
   "source": [
    "## Quiz 3 - Exploring Users"
   ]
  },
  {
   "cell_type": "markdown",
   "metadata": {},
   "source": [
    "How many unique users?"
   ]
  },
  {
   "cell_type": "code",
   "execution_count": 11,
   "metadata": {
    "collapsed": false
   },
   "outputs": [
    {
     "data": {
      "text/plain": [
       "1562"
      ]
     },
     "execution_count": 11,
     "metadata": {},
     "output_type": "execute_result"
    }
   ],
   "source": [
    "def process_map_uid(filename):\n",
    "    \n",
    "    users = set()\n",
    "    for _, element in ET.iterparse(filename):\n",
    "        if element.get('uid') != None:\n",
    "            users.add(element.get('uid'))\n",
    "        pass\n",
    "    \n",
    "    return users\n",
    "\n",
    "users = process_map_uid(OSM_FILE)\n",
    "len(users)\n",
    "#pprint.pprint(users)\n",
    "    "
   ]
  },
  {
   "cell_type": "markdown",
   "metadata": {},
   "source": [
    "## Quiz 4 - Auditing street name - brazilian standard"
   ]
  },
  {
   "cell_type": "markdown",
   "metadata": {},
   "source": [
    "Next we use the code provided by lesson 6 to audit street types. The difference here is that types appear at the beginning of address strings."
   ]
  },
  {
   "cell_type": "code",
   "execution_count": 12,
   "metadata": {
    "collapsed": false
   },
   "outputs": [
    {
     "name": "stdout",
     "output_type": "stream",
     "text": [
      "{'15': set(['15 de Novembro']),\n",
      " '199': set(['199']),\n",
      " 'ALAMEDA': set(['ALAMEDA CALDENSE253']),\n",
      " 'AVENIDA': set(['AVENIDA ANTARESS/N',\n",
      "                 'AVENIDA BRASIL18476',\n",
      "                 'AVENIDA DO CANALS/N',\n",
      "                 'AVENIDA DO CONTORNO1',\n",
      "                 'AVENIDA DO MAGISTERIOS/N',\n",
      "                 'AVENIDA HENRIETTE DE HOLANDA AMADOS/N',\n",
      "                 'AVENIDA ILHA DO FUNDAO107',\n",
      "                 'AVENIDA JOAO XXIII222',\n",
      "                 'AVENIDA JOAO XXIII230',\n",
      "                 'AVENIDA VISCONDE DE NITEROI774']),\n",
      " 'Adelaide': set(['Adelaide Badenes']),\n",
      " 'Afredo': set(['Afredo Ceschiatti']),\n",
      " 'Alfredo': set(['Alfredo Ceschiatti']),\n",
      " u'Apurin\\xe3s': set([u'Apurin\\xe3s']),\n",
      " u'Aterro': set([u'Aterro da Mar\\xe9']),\n",
      " 'Auto': set(['Auto Estrada Lagoa-Barra']),\n",
      " u'Av': set(['Av Castelo Branco',\n",
      "             'Av Padre Anchieta',\n",
      "             'Av Rotary',\n",
      "             u'Av das Am\\xe9ricas']),\n",
      " 'Av.': set(['Av. Afranio de Melo Franco', 'Av. Brasil']),\n",
      " 'Boulevard': set(['Boulevard 28 de Setembro',\n",
      "                   'Boulevard Vinte e Oito de Setembro']),\n",
      " u'Cal\\xe7ad\\xe3o': set([u'Cal\\xe7ad\\xe3o de Copacabana']),\n",
      " u'Campo': set([u'Campo de S\\xe3o Cristov\\xe3o',\n",
      "                u'Campo de S\\xe3o Crist\\xf3v\\xe3o']),\n",
      " u'Cidade': set([u'Cidade Universit\\xe1ria - S/N\\xba\\xa0\\xa0']),\n",
      " u'Condom\\xednio': set([u'Condom\\xednio Von Humboldt']),\n",
      " 'Criollo': set(['Criollo Drive']),\n",
      " 'De': set(['De Roggeberg']),\n",
      " 'Dias': set(['Dias Pereira', 'Dias da Cruz']),\n",
      " 'ESTRADA': set(['ESTRADA BOTAFOGO270',\n",
      "                 'ESTRADA DA BARRA3817',\n",
      "                 'ESTRADA DA GAVEA722',\n",
      "                 'ESTRADA DE BOTAFOGOS/N',\n",
      "                 'ESTRADA DE SEPETIBA144',\n",
      "                 'ESTRADA DO CAMBOATA4040',\n",
      "                 'ESTRADA DO CARICO26',\n",
      "                 'ESTRADA DO GOIABAL75',\n",
      "                 'ESTRADA DO GUANDU258',\n",
      "                 'ESTRADA DO LAMEIRAOS/N',\n",
      "                 'ESTRADA DO RIO GRANDE4470',\n",
      "                 'ESTRADA DO RIO PEQUENO6',\n",
      "                 'ESTRADA DOS VIEIRASS/N',\n",
      "                 'ESTRADA GENERAL AMERICANO FREIRES/N',\n",
      "                 'ESTRADA GOVERNADOR CHAGAS FREITASS/N',\n",
      "                 'ESTRADA GUANDU DO SENA77777',\n",
      "                 'ESTRADA SANTA EUGENIAS/N',\n",
      "                 'ESTRADA SANTA MARINHAS/N',\n",
      "                 'ESTRADA SAO TARCISIO1800']),\n",
      " 'Est.': set(['Est. Covanca']),\n",
      " 'Estr.': set([u'Estr. Ab\\xedlio Bastos',\n",
      "               'Estr. Adhemar Bebiano',\n",
      "               'Estr. Aterrado do Leme',\n",
      "               'Estr. Bouganville',\n",
      "               u\"Estr. Engenho d'\\xc1gua\",\n",
      "               'Estr. Engenho da Pedra',\n",
      "               u'Estr. Guandu do Sap\\xea',\n",
      "               u'Estr. Jos\\xe9 Rucas',\n",
      "               'Estr. Madureira',\n",
      "               u'Estr. Maracaj\\xe1s',\n",
      "               'Estr. Marechal Alencastro',\n",
      "               u'Estr. Mori\\xe7aba',\n",
      "               'Estr. Pau da Fome',\n",
      "               'Estr. Reta do Rio Grande',\n",
      "               u'Estr. Rio S\\xe3o Paulo',\n",
      "               'Estr. Rodrigues Caldas',\n",
      "               u'Estr. Santa Eug\\xeania',\n",
      "               'Estr. Santa Maria',\n",
      "               u'Estr. Sargento Miguel Filho S/N\\xba\\xa0\\xa0',\n",
      "               'Estr. Sete Riachos',\n",
      "               u'Estr. S\\xe3o Fernando',\n",
      "               'Estr. Taquaral',\n",
      "               'Estr. Theodureto de Camargo',\n",
      "               'Estr. Tubiacanga',\n",
      "               u'Estr. Uruc\\xe2nia',\n",
      "               'Estr. Victor Dumas',\n",
      "               'Estr. da Barra de Guaratiba',\n",
      "               'Estr. da Cacuia',\n",
      "               'Estr. da Cancela Preta',\n",
      "               'Estr. da Covanca',\n",
      "               u'Estr. da G\\xe1vea',\n",
      "               'Estr. da Matriz',\n",
      "               u'Estr. da Paci\\xeancia',\n",
      "               'Estr. da Paz',\n",
      "               'Estr. da Pedra',\n",
      "               'Estr. da Posse',\n",
      "               u'Estr. das Can\\xe1rias',\n",
      "               'Estr. de Manguariba',\n",
      "               'Estr. de Sepetiba',\n",
      "               'Estr. do Boiuna',\n",
      "               u'Estr. do Cabu\\xe7u',\n",
      "               'Estr. do Campinho',\n",
      "               u'Estr. do Col\\xe9gio',\n",
      "               'Estr. do Engenho',\n",
      "               'Estr. do Engenho Novo',\n",
      "               'Estr. do Guandu Do Sena',\n",
      "               u'Estr. do Magar\\xe7a',\n",
      "               'Estr. do Mandabua',\n",
      "               'Estr. do Mapua',\n",
      "               'Estr. do Mato Alto',\n",
      "               'Estr. do Monteiro',\n",
      "               'Estr. do Pica Pau',\n",
      "               'Estr. do Pontal',\n",
      "               'Estr. do Rio Pequeno',\n",
      "               'Estr. do Tindiba',\n",
      "               'Estr. dos Bandeirantes',\n",
      "               'Estr. dos Caboclos',\n",
      "               'Estr. dos Palmares']),\n",
      " 'General': set(['General Polidoro']),\n",
      " 'Gerben': set(['Gerben Ypmastraat']),\n",
      " 'Goethe': set(['Goethe']),\n",
      " u'Her\\xe1clito': set([u'Her\\xe1clito Gra\\xe7a']),\n",
      " 'Laaghalerveen': set(['Laaghalerveen']),\n",
      " 'Lourival': set(['Lourival Tavares de Paula']),\n",
      " u'Luis': set([u'Luis Carlos Precher - Conjunto Santa Maria\\xa0s/n\\xba\\xa0']),\n",
      " u'Marqu\\xeas': set([u'Marqu\\xeas de Paran\\xe1']),\n",
      " 'Mirante': set(['Mirante da Boa Viagem']),\n",
      " u'M\\xe1rio': set([u'M\\xe1rio Agostinelli']),\n",
      " 'PRAIA': set(['PRAIA DE INHAUMAS/N']),\n",
      " 'Parque': set(['Parque Poeta Manoel Bandeira', 'Parque Quinta da Boa Vista']),\n",
      " 'Praca': set(['Praca Marechal Floriano', 'Praca Senador Salgado Filho']),\n",
      " 'Presidente': set(['Presidente Tancredo Neves']),\n",
      " 'Professor': set(['Professor Fioravanti Di Piero']),\n",
      " u'P\\xe7a': set([u'P\\xe7a Carlos de Laet']),\n",
      " u'P\\xe7a.': set([u'P\\xe7a. Abuna',\n",
      "                  u'P\\xe7a. Belmonte',\n",
      "                  u'P\\xe7a. Condessa Paulo de Frontin',\n",
      "                  u'P\\xe7a. Confedera\\xe7\\xe3o Su\\xed\\xe7a',\n",
      "                  u'P\\xe7a. Dr. Jos\\xe9 Pontes',\n",
      "                  u'P\\xe7a. Emboaba',\n",
      "                  u'P\\xe7a. Estado de Israel',\n",
      "                  u'P\\xe7a. Ferreira de Abreu',\n",
      "                  u'P\\xe7a. Gal. Alcio Souto',\n",
      "                  u'P\\xe7a. General Portinho',\n",
      "                  u'P\\xe7a. Irineu Machado',\n",
      "                  u'P\\xe7a. Jos\\xe9 Alves de Azevedo',\n",
      "                  u'P\\xe7a. Laguna',\n",
      "                  u'P\\xe7a. Lautaro',\n",
      "                  u'P\\xe7a. Mal. Hermes',\n",
      "                  u'P\\xe7a. Marcelino Gama',\n",
      "                  u'P\\xe7a. Ramos Figueira',\n",
      "                  u'P\\xe7a. Ricardo Gon\\xe7alves',\n",
      "                  u'P\\xe7a. Rocha Vaz',\n",
      "                  u'P\\xe7a. Ros\\xe1ria Trotta',\n",
      "                  u'P\\xe7a. Santa Rosalia',\n",
      "                  u'P\\xe7a. Santos Dumont',\n",
      "                  u'P\\xe7a. Sentinela',\n",
      "                  u'P\\xe7a. Soldado Geraldo Cruz',\n",
      "                  u'P\\xe7a. Tarumirim',\n",
      "                  u'P\\xe7a. Tenente-Coronel Siqueira',\n",
      "                  u'P\\xe7a. Ubajara',\n",
      "                  u'P\\xe7a. Vicente de Oliveira Silva',\n",
      "                  u'P\\xe7a. da Bandeira',\n",
      "                  u'P\\xe7a. da B\\xedblia',\n",
      "                  u'P\\xe7a. da Rep\\xfablica',\n",
      "                  u'P\\xe7a. dos Jesu\\xedtas',\n",
      "                  u'P\\xe7a. dos Ucranianos']),\n",
      " 'Quadra': set(['Quadra 10']),\n",
      " 'Quinta': set(['Quinta da Boa Vista']),\n",
      " 'R.': set(['R. Miguel Gustavo', 'R. Ten. Ronald Santoro']),\n",
      " 'RJ-125': set(['RJ-125']),\n",
      " 'RUA': set(['RUA 01S/N',\n",
      "             'RUA 02S/N',\n",
      "             'RUA 23S/N',\n",
      "             'RUA BELIZARIO DE SOUZA 704',\n",
      "             'RUA BOM PASTOR502',\n",
      "             'RUA BOM SOSSEGO382',\n",
      "             'RUA BRITANIA17',\n",
      "             'RUA BS/N',\n",
      "             'RUA CALIXTO DA SILVAS/N',\n",
      "             'RUA CAPELINHAS/N',\n",
      "             'RUA CARLOS LACERDA46',\n",
      "             'RUA CARLOS SAMPAIO CORREA34',\n",
      "             'RUA CASTELNUEVOS/N',\n",
      "             'RUA CENIRA CAMPOSS/N',\n",
      "             'RUA DA CAPELINHA94',\n",
      "             'RUA DA LUZ2',\n",
      "             'RUA DEZOITOS/N',\n",
      "             'RUA DO COLEIROS/N',\n",
      "             'RUA DO DIQUE166',\n",
      "             'RUA DO MAGISTRADO168',\n",
      "             'RUA DO RADIOS/N',\n",
      "             'RUA DOIS431',\n",
      "             'RUA DOS JUNQUILHOSS/N',\n",
      "             'RUA DOUTOR ADALTOS/N',\n",
      "             'RUA EMBAU2463',\n",
      "             'RUA FREI SAMPAIO534',\n",
      "             'RUA GONCALVES DO CEUS/N',\n",
      "             'RUA ICARAIS/N',\n",
      "             'RUA IPEROS/N',\n",
      "             'RUA JASMIN',\n",
      "             'RUA JOAO BRAUNER420',\n",
      "             'RUA JOHOVAN COSTA',\n",
      "             'RUA JORDAO743',\n",
      "             'RUA JOSE MARIA BELOS/N',\n",
      "             'RUA JUAREZ ANTUNESS/N',\n",
      "             'RUA JUPARA98',\n",
      "             'RUA LAURINDO RABELO537',\n",
      "             'RUA LUIZ CARLOS PRESTESS/N',\n",
      "             'RUA MACABU55',\n",
      "             'RUA MANOEL DA LUZS/N',\n",
      "             'RUA MANOEL LORENCO DOS SANTOSS/N',\n",
      "             'RUA MARAGOGI195',\n",
      "             'RUA MARCOLINA180',\n",
      "             'RUA MASSAPES/N',\n",
      "             'RUA MORA GUIMARAESS/N',\n",
      "             'RUA NELSON PHIAUI DOURADOs/n',\n",
      "             'RUA NOVA115',\n",
      "             'RUA PARA SEMPRE623',\n",
      "             'RUA PARAISO17',\n",
      "             'RUA PEDRO PEREIRA DA SILVAS/N',\n",
      "             'RUA PROJETADA AS/N',\n",
      "             'RUA PROJETADA135',\n",
      "             'RUA PROJETADAS/N',\n",
      "             'RUA QUINTANILHA820',\n",
      "             'RUA RAFAEL PEREIRAS/N',\n",
      "             'RUA RAINHA DA PAZ33',\n",
      "             'RUA REALEZAS/N',\n",
      "             'RUA S',\n",
      "             'RUA SALVADOR DE SAS/N',\n",
      "             'RUA SALVADOR1',\n",
      "             'RUA SANANDUVAS/N',\n",
      "             'RUA SAO LUIS GONZAGA1486',\n",
      "             'RUA SARGENTO JOAO LIMAS/N',\n",
      "             'RUA SENADOR NABUCO248',\n",
      "             'RUA SETE1',\n",
      "             'RUA SETES/N',\n",
      "             'RUA SEVERINO DE OLIVEIRAS/N',\n",
      "             'RUA TABELIAO LUIZ GUARANA160',\n",
      "             'RUA TANCREDO NEVESS/N',\n",
      "             'RUA TAPEROA308',\n",
      "             'RUA VINTE E OITOS/N',\n",
      "             'RUA VISCONDE DE NITEROI1098']),\n",
      " 'Rod.': set(['Rod. Washigton Luiz', 'Rod. Washington Luiz']),\n",
      " 'Ruas': set(['Ruas das Palmeiras']),\n",
      " 'Rue': set(['Rue Almirante Alexandrino']),\n",
      " u'Servid\\xe3o': set([u'Servid\\xe3o de Passagem 1']),\n",
      " 'TRAVESSA': set(['TRAVESSA CAMPOS6',\n",
      "                  'TRAVESSA DAS GARCASS/N',\n",
      "                  'TRAVESSA DO COMERCIOS/N',\n",
      "                  'TRAVESSA ROCHA LIMA12']),\n",
      " 'Terminal': set(['Terminal Alvorada']),\n",
      " 'Trav': set(['Trav Mario dos Santos']),\n",
      " 'Trav.': set(['Trav. Abilene',\n",
      "               'Trav. Barraquilha',\n",
      "               'Trav. Hara',\n",
      "               u'Trav. Sai\\xe3o Lobato',\n",
      "               'Trav. Yucatan']),\n",
      " 'estrada': set(['estrada da batalha']),\n",
      " 'rua': set(['rua 125 casa 21', 'rua das laranjeiras'])}\n"
     ]
    }
   ],
   "source": [
    "#Changed pattern to get the first word (portugueses pattern) \n",
    "street_type_re = re.compile(r'\\b\\S+\\.?', re.IGNORECASE)\n",
    "\n",
    "#We need to use decode('unicode-escape') to deal with portuguese chars\n",
    "expected = [\"Rua\", \"Avenida\", \"Travessa\", \"Estrada\", \"Ladeira\", \n",
    "            \"Largo\" , \"Praia\", \"Via\", \"Alameda\",\"Beco\",\"Caminho\",\n",
    "            \"Pra\\xe7a\".decode('unicode-escape'),\"Rodovia\"]\n",
    "\n",
    "\n",
    "\n",
    "\n",
    "def audit_street_type(street_types, street_name):\n",
    "    m = street_type_re.search(street_name)\n",
    "    if m:\n",
    "        street_type = m.group()\n",
    "        if street_type not in expected:\n",
    "            street_types[street_type].add(street_name)\n",
    "\n",
    "\n",
    "def is_street_name(elem):\n",
    "    return (elem.attrib['k'] == \"addr:street\")\n",
    "\n",
    "\n",
    "def audit_street(osmfile):\n",
    "    osm_file = open(osmfile, \"r\")\n",
    "    street_types = defaultdict(set)\n",
    "    for event, elem in ET.iterparse(osm_file, events=(\"start\",)):\n",
    "\n",
    "        if elem.tag == \"node\" or elem.tag == \"way\":\n",
    "            for tag in elem.iter(\"tag\"):\n",
    "                if is_street_name(tag):\n",
    "                    audit_street_type(street_types, tag.attrib['v'])\n",
    "    osm_file.close()\n",
    "    return street_types\n",
    "\n",
    "\n",
    "\n",
    "\n",
    "st_types = audit_street(OSM_FILE)\n",
    "pprint.pprint(dict(st_types))\n"
   ]
  },
  {
   "cell_type": "markdown",
   "metadata": {},
   "source": [
    "Fixing street types"
   ]
  },
  {
   "cell_type": "code",
   "execution_count": 13,
   "metadata": {
    "collapsed": false
   },
   "outputs": [
    {
     "name": "stdout",
     "output_type": "stream",
     "text": [
      "Pça. Soldado Geraldo Cruz => Praça Soldado Geraldo Cruz\n",
      "Pça. da República => Praça da República\n",
      "Pça. da Bíblia => Praça da Bíblia\n",
      "Pça. Gal. Alcio Souto => Praça Gal. Alcio Souto\n",
      "Pça. José Alves de Azevedo => Praça José Alves de Azevedo\n",
      "Pça. Belmonte => Praça Belmonte\n",
      "Pça. dos Jesuítas => Praça dos Jesuítas\n",
      "Pça. Ferreira de Abreu => Praça Ferreira de Abreu\n",
      "Pça. Rosária Trotta => Praça Rosária Trotta\n",
      "Pça. Laguna => Praça Laguna\n",
      "Pça. Marcelino Gama => Praça Marcelino Gama\n",
      "Pça. Estado de Israel => Praça Estado de Israel\n",
      "Pça. dos Ucranianos => Praça dos Ucranianos\n",
      "Pça. Santa Rosalia => Praça Santa Rosalia\n",
      "Pça. Ricardo Gonçalves => Praça Ricardo Gonçalves\n",
      "Pça. Irineu Machado => Praça Irineu Machado\n",
      "Pça. Sentinela => Praça Sentinela\n",
      "Pça. Mal. Hermes => Praça Mal. Hermes\n",
      "Pça. Abuna => Praça Abuna\n",
      "Pça. da Bandeira => Praça da Bandeira\n",
      "Pça. Vicente de Oliveira Silva => Praça Vicente de Oliveira Silva\n",
      "Pça. Emboaba => Praça Emboaba\n",
      "Pça. Dr. José Pontes => Praça Dr. José Pontes\n",
      "Pça. Confederação Suíça => Praça Confederação Suíça\n",
      "Pça. Ubajara => Praça Ubajara\n",
      "Pça. Ramos Figueira => Praça Ramos Figueira\n",
      "Pça. Tarumirim => Praça Tarumirim\n",
      "Pça. Condessa Paulo de Frontin => Praça Condessa Paulo de Frontin\n",
      "Pça. Santos Dumont => Praça Santos Dumont\n",
      "Pça. Lautaro => Praça Lautaro\n",
      "Pça. Rocha Vaz => Praça Rocha Vaz\n",
      "Pça. General Portinho => Praça General Portinho\n",
      "Pça. Tenente-Coronel Siqueira => Praça Tenente-Coronel Siqueira\n",
      "ALAMEDA CALDENSE253 => Alameda CALDENSE253\n",
      "estrada da batalha => Estrada da batalha\n",
      "ESTRADA DA GAVEA722 => Estrada DA GAVEA722\n",
      "ESTRADA GENERAL AMERICANO FREIRES/N => Estrada GENERAL AMERICANO FREIRES/N\n",
      "ESTRADA DO GOIABAL75 => Estrada DO GOIABAL75\n",
      "ESTRADA GOVERNADOR CHAGAS FREITASS/N => Estrada GOVERNADOR CHAGAS FREITASS/N\n",
      "ESTRADA BOTAFOGO270 => Estrada BOTAFOGO270\n",
      "ESTRADA DO LAMEIRAOS/N => Estrada DO LAMEIRAOS/N\n",
      "ESTRADA DO RIO PEQUENO6 => Estrada DO RIO PEQUENO6\n",
      "ESTRADA DO GUANDU258 => Estrada DO GUANDU258\n",
      "ESTRADA DO CARICO26 => Estrada DO CARICO26\n",
      "ESTRADA DO RIO GRANDE4470 => Estrada DO RIO GRANDE4470\n",
      "ESTRADA GUANDU DO SENA77777 => Estrada GUANDU DO SENA77777\n",
      "ESTRADA SANTA MARINHAS/N => Estrada SANTA MARINHAS/N\n",
      "ESTRADA DE BOTAFOGOS/N => Estrada DE BOTAFOGOS/N\n",
      "ESTRADA SAO TARCISIO1800 => Estrada SAO TARCISIO1800\n",
      "ESTRADA SANTA EUGENIAS/N => Estrada SANTA EUGENIAS/N\n",
      "ESTRADA DE SEPETIBA144 => Estrada DE SEPETIBA144\n",
      "ESTRADA DOS VIEIRASS/N => Estrada DOS VIEIRASS/N\n",
      "ESTRADA DA BARRA3817 => Estrada DA BARRA3817\n",
      "ESTRADA DO CAMBOATA4040 => Estrada DO CAMBOATA4040\n",
      "Praca Senador Salgado Filho => Praça Senador Salgado Filho\n",
      "Praca Marechal Floriano => Praça Marechal Floriano\n",
      "Rod. Washington Luiz => Rodovia Washington Luiz\n",
      "Rod. Washigton Luiz => Rodovia Washigton Luiz\n",
      "Est. Covanca => Estrada Covanca\n",
      "Rue Almirante Alexandrino => Rua Almirante Alexandrino\n",
      "Av. Afranio de Melo Franco => Avenida Afranio de Melo Franco\n",
      "Av. Brasil => Avenida Brasil\n",
      "rua das laranjeiras => Rua das laranjeiras\n",
      "rua 125 casa 21 => Rua 125 casa 21\n",
      "Trav Mario dos Santos => Travessa Mario dos Santos\n",
      "R. Ten. Ronald Santoro => Rua Ten. Ronald Santoro\n",
      "R. Miguel Gustavo => Rua Miguel Gustavo\n",
      "Pça Carlos de Laet => Praça Carlos de Laet\n",
      "RUA MARAGOGI195 => Rua MARAGOGI195\n",
      "RUA GONCALVES DO CEUS/N => Rua GONCALVES DO CEUS/N\n",
      "RUA JOSE MARIA BELOS/N => Rua JOSE MARIA BELOS/N\n",
      "RUA JUPARA98 => Rua JUPARA98\n",
      "RUA DO RADIOS/N => Rua DO RADIOS/N\n",
      "RUA PARAISO17 => Rua PARAISO17\n",
      "RUA SARGENTO JOAO LIMAS/N => Rua SARGENTO JOAO LIMAS/N\n",
      "RUA TABELIAO LUIZ GUARANA160 => Rua TABELIAO LUIZ GUARANA160\n",
      "RUA IPEROS/N => Rua IPEROS/N\n",
      "RUA EMBAU2463 => Rua EMBAU2463\n",
      "RUA PEDRO PEREIRA DA SILVAS/N => Rua PEDRO PEREIRA DA SILVAS/N\n",
      "RUA PROJETADAS/N => Rua PROJETADAS/N\n",
      "RUA PROJETADA135 => Rua PROJETADA135\n",
      "RUA MASSAPES/N => Rua MASSAPES/N\n",
      "RUA DOUTOR ADALTOS/N => Rua DOUTOR ADALTOS/N\n",
      "RUA CARLOS SAMPAIO CORREA34 => Rua CARLOS SAMPAIO CORREA34\n",
      "RUA SENADOR NABUCO248 => Rua SENADOR NABUCO248\n",
      "RUA CAPELINHAS/N => Rua CAPELINHAS/N\n",
      "RUA JUAREZ ANTUNESS/N => Rua JUAREZ ANTUNESS/N\n",
      "RUA 02S/N => Rua 02S/N\n",
      "RUA CARLOS LACERDA46 => Rua CARLOS LACERDA46\n",
      "RUA DOIS431 => Rua DOIS431\n",
      "RUA DO COLEIROS/N => Rua DO COLEIROS/N\n",
      "RUA BOM SOSSEGO382 => Rua BOM SOSSEGO382\n",
      "RUA VISCONDE DE NITEROI1098 => Rua VISCONDE DE NITEROI1098\n",
      "RUA TAPEROA308 => Rua TAPEROA308\n",
      "RUA RAINHA DA PAZ33 => Rua RAINHA DA PAZ33\n",
      "RUA SALVADOR1 => Rua SALVADOR1\n",
      "RUA SANANDUVAS/N => Rua SANANDUVAS/N\n",
      "RUA LUIZ CARLOS PRESTESS/N => Rua LUIZ CARLOS PRESTESS/N\n",
      "RUA JOAO BRAUNER420 => Rua JOAO BRAUNER420\n",
      "RUA 01S/N => Rua 01S/N\n",
      "RUA NELSON PHIAUI DOURADOs/n => Rua NELSON PHIAUI DOURADOs/n\n",
      "RUA MORA GUIMARAESS/N => Rua MORA GUIMARAESS/N\n",
      "RUA BS/N => Rua BS/N\n",
      "RUA JASMIN => Rua JASMIN\n",
      "RUA SEVERINO DE OLIVEIRAS/N => Rua SEVERINO DE OLIVEIRAS/N\n",
      "RUA CENIRA CAMPOSS/N => Rua CENIRA CAMPOSS/N\n",
      "RUA NOVA115 => Rua NOVA115\n",
      "RUA MARCOLINA180 => Rua MARCOLINA180\n",
      "RUA QUINTANILHA820 => Rua QUINTANILHA820\n",
      "RUA SETES/N => Rua SETES/N\n",
      "RUA DO DIQUE166 => Rua DO DIQUE166\n",
      "RUA ICARAIS/N => Rua ICARAIS/N\n",
      "RUA SETE1 => Rua SETE1\n",
      "RUA JORDAO743 => Rua JORDAO743\n",
      "RUA DA LUZ2 => Rua DA LUZ2\n",
      "RUA PROJETADA AS/N => Rua PROJETADA AS/N\n",
      "RUA FREI SAMPAIO534 => Rua FREI SAMPAIO534\n",
      "RUA PARA SEMPRE623 => Rua PARA SEMPRE623\n",
      "RUA REALEZAS/N => Rua REALEZAS/N\n",
      "RUA BRITANIA17 => Rua BRITANIA17\n",
      "RUA CASTELNUEVOS/N => Rua CASTELNUEVOS/N\n",
      "RUA BOM PASTOR502 => Rua BOM PASTOR502\n",
      "RUA SALVADOR DE SAS/N => Rua SALVADOR DE SAS/N\n",
      "RUA MANOEL DA LUZS/N => Rua MANOEL DA LUZS/N\n",
      "RUA SAO LUIS GONZAGA1486 => Rua SAO LUIS GONZAGA1486\n",
      "RUA DOS JUNQUILHOSS/N => Rua DOS JUNQUILHOSS/N\n",
      "RUA DO MAGISTRADO168 => Rua DO MAGISTRADO168\n",
      "RUA S => Rua S\n",
      "RUA MACABU55 => Rua MACABU55\n",
      "RUA TANCREDO NEVESS/N => Rua TANCREDO NEVESS/N\n",
      "RUA 23S/N => Rua 23S/N\n",
      "RUA RAFAEL PEREIRAS/N => Rua RAFAEL PEREIRAS/N\n",
      "RUA VINTE E OITOS/N => Rua VINTE E OITOS/N\n",
      "RUA JOHOVAN COSTA => Rua JOHOVAN COSTA\n",
      "RUA MANOEL LORENCO DOS SANTOSS/N => Rua MANOEL LORENCO DOS SANTOSS/N\n",
      "RUA DA CAPELINHA94 => Rua DA CAPELINHA94\n",
      "RUA CALIXTO DA SILVAS/N => Rua CALIXTO DA SILVAS/N\n",
      "RUA BELIZARIO DE SOUZA 704 => Rua BELIZARIO DE SOUZA 704\n",
      "RUA DEZOITOS/N => Rua DEZOITOS/N\n",
      "RUA LAURINDO RABELO537 => Rua LAURINDO RABELO537\n",
      "Trav. Saião Lobato => Travessa Saião Lobato\n",
      "Trav. Abilene => Travessa Abilene\n",
      "Trav. Yucatan => Travessa Yucatan\n",
      "Trav. Barraquilha => Travessa Barraquilha\n",
      "Trav. Hara => Travessa Hara\n",
      "Av das Américas => Avenida das Américas\n",
      "Av Rotary => Avenida Rotary\n",
      "Av Castelo Branco => Avenida Castelo Branco\n",
      "Av Padre Anchieta => Avenida Padre Anchieta\n",
      "AVENIDA ILHA DO FUNDAO107 => Avenida ILHA DO FUNDAO107\n",
      "AVENIDA VISCONDE DE NITEROI774 => Avenida VISCONDE DE NITEROI774\n",
      "AVENIDA DO MAGISTERIOS/N => Avenida DO MAGISTERIOS/N\n",
      "AVENIDA ANTARESS/N => Avenida ANTARESS/N\n",
      "AVENIDA HENRIETTE DE HOLANDA AMADOS/N => Avenida HENRIETTE DE HOLANDA AMADOS/N\n",
      "AVENIDA DO CONTORNO1 => Avenida DO CONTORNO1\n",
      "AVENIDA BRASIL18476 => Avenida BRASIL18476\n",
      "AVENIDA JOAO XXIII222 => Avenida JOAO XXIII222\n",
      "AVENIDA DO CANALS/N => Avenida DO CANALS/N\n",
      "AVENIDA JOAO XXIII230 => Avenida JOAO XXIII230\n",
      "Estr. Rio São Paulo => Estrada Rio São Paulo\n",
      "Estr. dos Bandeirantes => Estrada dos Bandeirantes\n",
      "Estr. Engenho d'Água => Estrada Engenho d'Água\n",
      "Estr. do Tindiba => Estrada do Tindiba\n",
      "Estr. do Campinho => Estrada do Campinho\n",
      "Estr. da Paciência => Estrada da Paciência\n",
      "Estr. Engenho da Pedra => Estrada Engenho da Pedra\n",
      "Estr. Bouganville => Estrada Bouganville\n",
      "Estr. do Mapua => Estrada do Mapua\n",
      "Estr. da Cacuia => Estrada da Cacuia\n",
      "Estr. Tubiacanga => Estrada Tubiacanga\n",
      "Estr. do Magarça => Estrada do Magarça\n",
      "Estr. do Monteiro => Estrada do Monteiro\n",
      "Estr. do Boiuna => Estrada do Boiuna\n",
      "Estr. do Engenho => Estrada do Engenho\n",
      "Estr. Rodrigues Caldas => Estrada Rodrigues Caldas\n",
      "Estr. Pau da Fome => Estrada Pau da Fome\n",
      "Estr. da Paz => Estrada da Paz\n",
      "Estr. de Sepetiba => Estrada de Sepetiba\n",
      "Estr. São Fernando => Estrada São Fernando\n",
      "Estr. dos Palmares => Estrada dos Palmares\n",
      "Estr. do Engenho Novo => Estrada do Engenho Novo\n",
      "Estr. Adhemar Bebiano => Estrada Adhemar Bebiano\n",
      "Estr. Sete Riachos => Estrada Sete Riachos\n",
      "Estr. do Mandabua => Estrada do Mandabua\n",
      "Estr. do Rio Pequeno => Estrada do Rio Pequeno\n",
      "Estr. de Manguariba => Estrada de Manguariba\n",
      "Estr. Santa Eugênia => Estrada Santa Eugênia\n",
      "Estr. da Covanca => Estrada da Covanca\n",
      "Estr. da Cancela Preta => Estrada da Cancela Preta\n",
      "Estr. Taquaral => Estrada Taquaral\n",
      "Estr. da Matriz => Estrada da Matriz\n",
      "Estr. Marechal Alencastro => Estrada Marechal Alencastro\n",
      "Estr. Maracajás => Estrada Maracajás\n",
      "Estr. Santa Maria => Estrada Santa Maria\n",
      "Estr. Moriçaba => Estrada Moriçaba\n",
      "Estr. da Pedra => Estrada da Pedra\n",
      "Estr. do Mato Alto => Estrada do Mato Alto\n",
      "Estr. do Guandu Do Sena => Estrada do Guandu Do Sena\n",
      "Estr. Aterrado do Leme => Estrada Aterrado do Leme\n",
      "Estr. Guandu do Sapê => Estrada Guandu do Sapê\n",
      "Estr. dos Caboclos => Estrada dos Caboclos\n",
      "Estr. Sargento Miguel Filho S/Nº  => Estrada Sargento Miguel Filho S/Nº  \n",
      "Estr. do Pica Pau => Estrada do Pica Pau\n",
      "Estr. do Pontal => Estrada do Pontal\n",
      "Estr. da Barra de Guaratiba => Estrada da Barra de Guaratiba\n",
      "Estr. do Cabuçu => Estrada do Cabuçu\n",
      "Estr. das Canárias => Estrada das Canárias\n",
      "Estr. José Rucas => Estrada José Rucas\n",
      "Estr. do Colégio => Estrada do Colégio\n",
      "Estr. Madureira => Estrada Madureira\n",
      "Estr. Urucânia => Estrada Urucânia\n",
      "Estr. Theodureto de Camargo => Estrada Theodureto de Camargo\n",
      "Estr. Victor Dumas => Estrada Victor Dumas\n",
      "Estr. da Gávea => Estrada da Gávea\n",
      "Estr. Reta do Rio Grande => Estrada Reta do Rio Grande\n",
      "Estr. da Posse => Estrada da Posse\n",
      "Estr. Abílio Bastos => Estrada Abílio Bastos\n"
     ]
    }
   ],
   "source": [
    "#We need to use decode('unicode-escape') to deal with portuguese chars\n",
    "\n",
    "mapping = { \n",
    "            \"estrada\" : \"Estrada\",\n",
    "            \"ESTRADA\" : \"Estrada\",\n",
    "            \"Est.\" : \"Estrada\",\n",
    "            \"Estr.\" : \"Estrada\",\n",
    "            \"Trav\" : \"Travessa\",\n",
    "            \"Trav.\" : \"Travessa\",\n",
    "            \"Rod.\" : \"Rodovia\",\n",
    "            \"Av\": \"Avenida\",\n",
    "            \"Av.\": \"Avenida\",\n",
    "            \"AVENIDA\" : \"Avenida\",\n",
    "            \"Pca\": \"Pra\\xe7a\".decode('unicode-escape'),\n",
    "            \"P\\xe7a.\".decode('unicode-escape') : \"Pra\\xe7a\".decode('unicode-escape'),\n",
    "            \"P\\xe7a\".decode('unicode-escape') : \"Pra\\xe7a\".decode('unicode-escape'),\n",
    "            \"Praca\": \"Pra\\xe7a\".decode('unicode-escape'),\n",
    "            \"R.\" : \"Rua\",\n",
    "            \"RUA\" : \"Rua\",\n",
    "            \"Rue\" : \"Rua\",\n",
    "            \"rua\" : \"Rua\",\n",
    "            \"Rod\" : \"Rodovia\",\n",
    "            \"ALAMEDA\" :\"Alameda\"\n",
    "          }\n",
    "\n",
    "def update_street_name(name, mapping):\n",
    "\n",
    "    firstword = name.split()[0]\n",
    "    name = name.replace(firstword, mapping[firstword])\n",
    "\n",
    "    return name\n",
    "\n",
    "for st_type, ways in st_types.iteritems():\n",
    "        for name in ways:\n",
    "            if name.split()[0] in mapping.keys():\n",
    "                better_name = update_street_name(name, mapping)\n",
    "                print name, \"=>\", better_name\n"
   ]
  },
  {
   "cell_type": "markdown",
   "metadata": {
    "collapsed": true
   },
   "source": [
    "## Auditing postcode - brazilian format"
   ]
  },
  {
   "cell_type": "markdown",
   "metadata": {},
   "source": [
    "Postal code in Brazil has the following format  XXXXX-XXX, where X are integers form 0 to 9. Next we check entries that don't follow this pattern."
   ]
  },
  {
   "cell_type": "code",
   "execution_count": 14,
   "metadata": {
    "collapsed": false
   },
   "outputs": [
    {
     "name": "stdout",
     "output_type": "stream",
     "text": [
      "['22240004',\n",
      " '20270060',\n",
      " '25660004',\n",
      " '22280030',\n",
      " '22270010',\n",
      " '24346030',\n",
      " '2261001',\n",
      " '24324270',\n",
      " '22410000',\n",
      " '22281020',\n",
      " '20510180',\n",
      " '25010060',\n",
      " '26130130',\n",
      " '26130130',\n",
      " '26130130',\n",
      " '26130130',\n",
      " '26130130',\n",
      " '25.620-003',\n",
      " '20720010',\n",
      " '25953671',\n",
      " '25963082',\n",
      " '2695307',\n",
      " '26953201',\n",
      " '25955240',\n",
      " '25958060',\n",
      " '35953060',\n",
      " '24230',\n",
      " '23025 520',\n",
      " '20770240',\n",
      " '20775090',\n",
      " '20550200',\n",
      " '20550200',\n",
      " '24744520',\n",
      " '21921000',\n",
      " '22440040',\n",
      " '22440040',\n",
      " '22.776-070',\n",
      " '26130230',\n",
      " '26130230',\n",
      " '21311050',\n",
      " '20745000',\n",
      " '26900000',\n",
      " '20260200',\n",
      " '25940000',\n",
      " '20261130',\n",
      " '20520050',\n",
      " '8723CP',\n",
      " '8723CP',\n",
      " '4206XS',\n",
      " '4206XS',\n",
      " '24020000',\n",
      " '21941005',\n",
      " '22790790',\n",
      " '8426GK',\n",
      " '25900213',\n",
      " '25900213',\n",
      " '21515090',\n",
      " '20090-00',\n",
      " '22430090',\n",
      " '24220480',\n",
      " '24060037',\n",
      " '24060037',\n",
      " '24060037',\n",
      " '24060037',\n",
      " '21230354',\n",
      " '22631030',\n",
      " u'20770\\u2011001',\n",
      " '22440033',\n",
      " '22750009',\n",
      " '20216005',\n",
      " '52645100',\n",
      " '2246-000',\n",
      " '22471340',\n",
      " '22471340',\n",
      " '22471340',\n",
      " '22471270',\n",
      " '22471340',\n",
      " '22471220',\n",
      " '22471220',\n",
      " '22471220',\n",
      " '22471340',\n",
      " '22471340',\n",
      " '22471340',\n",
      " '22471350',\n",
      " '21920225',\n",
      " '22790790',\n",
      " '22071100',\n",
      " '22770104',\n",
      " '22795255',\n",
      " '22735030',\n",
      " '22775053',\n",
      " '22775053',\n",
      " '20771580',\n",
      " '20550200',\n",
      " '20770240',\n",
      " '24230000',\n",
      " '22723002',\n",
      " '20.530-001',\n",
      " '24220401',\n",
      " '22743050',\n",
      " '2056005',\n",
      " '20550200',\n",
      " '24230153',\n",
      " '22790440',\n",
      " '20715310',\n",
      " '20715310',\n",
      " '22770104',\n",
      " '22770104',\n",
      " '26210060',\n",
      " '20715310',\n",
      " '23453',\n",
      " '23453',\n",
      " '23453',\n",
      " '23453']\n"
     ]
    }
   ],
   "source": [
    "#postal code format regex\n",
    "postcode_re = re.compile(r'^([0-9]{5})(-)([0-9]{3})$')\n",
    "\n",
    "def is_postcode(elem):\n",
    "    return (elem.attrib['k'] == \"addr:postcode\")\n",
    "\n",
    "def audit_post(osmfile):\n",
    "    osm_file = open(osmfile, \"r\")\n",
    "    post_types = []\n",
    "    for event, elem in ET.iterparse(osm_file, events=(\"start\",)):\n",
    "\n",
    "        if elem.tag == \"node\" or elem.tag == \"way\":\n",
    "            for tag in elem.iter(\"tag\"):\n",
    "                if is_postcode(tag) and postcode_re.match(tag.attrib['v']) == None:\n",
    "                    post_types.append(tag.attrib['v'])\n",
    "                    \n",
    "    osm_file.close()\n",
    "    return post_types\n",
    "\n",
    "unformatted_postal_codes = audit_post(OSM_FILE)\n",
    "pprint.pprint(unformatted_postal_codes)\n"
   ]
  },
  {
   "cell_type": "markdown",
   "metadata": {
    "collapsed": true
   },
   "source": [
    "There are a few variants, but the 8 digit sequence without hyphenation stands out. Next we fix this specific problem."
   ]
  },
  {
   "cell_type": "code",
   "execution_count": 15,
   "metadata": {
    "collapsed": false
   },
   "outputs": [
    {
     "name": "stdout",
     "output_type": "stream",
     "text": [
      "22240004 => 22240-004\n",
      "20270060 => 20270-060\n",
      "25660004 => 25660-004\n",
      "22280030 => 22280-030\n",
      "22270010 => 22270-010\n",
      "24346030 => 24346-030\n",
      "24324270 => 24324-270\n",
      "22410000 => 22410-000\n",
      "22281020 => 22281-020\n",
      "20510180 => 20510-180\n",
      "25010060 => 25010-060\n",
      "26130130 => 26130-130\n",
      "26130130 => 26130-130\n",
      "26130130 => 26130-130\n",
      "26130130 => 26130-130\n",
      "26130130 => 26130-130\n",
      "20720010 => 20720-010\n",
      "25953671 => 25953-671\n",
      "25963082 => 25963-082\n",
      "26953201 => 26953-201\n",
      "25955240 => 25955-240\n",
      "25958060 => 25958-060\n",
      "35953060 => 35953-060\n",
      "20770240 => 20770-240\n",
      "20775090 => 20775-090\n",
      "20550200 => 20550-200\n",
      "20550200 => 20550-200\n",
      "24744520 => 24744-520\n",
      "21921000 => 21921-000\n",
      "22440040 => 22440-040\n",
      "22440040 => 22440-040\n",
      "26130230 => 26130-230\n",
      "26130230 => 26130-230\n",
      "21311050 => 21311-050\n",
      "20745000 => 20745-000\n",
      "26900000 => 26900-000\n",
      "20260200 => 20260-200\n",
      "25940000 => 25940-000\n",
      "20261130 => 20261-130\n",
      "20520050 => 20520-050\n",
      "24020000 => 24020-000\n",
      "21941005 => 21941-005\n",
      "22790790 => 22790-790\n",
      "25900213 => 25900-213\n",
      "25900213 => 25900-213\n",
      "21515090 => 21515-090\n",
      "22430090 => 22430-090\n",
      "24220480 => 24220-480\n",
      "24060037 => 24060-037\n",
      "24060037 => 24060-037\n",
      "24060037 => 24060-037\n",
      "24060037 => 24060-037\n",
      "21230354 => 21230-354\n",
      "22631030 => 22631-030\n",
      "22440033 => 22440-033\n",
      "22750009 => 22750-009\n",
      "20216005 => 20216-005\n",
      "52645100 => 52645-100\n",
      "22471340 => 22471-340\n",
      "22471340 => 22471-340\n",
      "22471340 => 22471-340\n",
      "22471270 => 22471-270\n",
      "22471340 => 22471-340\n",
      "22471220 => 22471-220\n",
      "22471220 => 22471-220\n",
      "22471220 => 22471-220\n",
      "22471340 => 22471-340\n",
      "22471340 => 22471-340\n",
      "22471340 => 22471-340\n",
      "22471350 => 22471-350\n",
      "21920225 => 21920-225\n",
      "22790790 => 22790-790\n",
      "22071100 => 22071-100\n",
      "22770104 => 22770-104\n",
      "22795255 => 22795-255\n",
      "22735030 => 22735-030\n",
      "22775053 => 22775-053\n",
      "22775053 => 22775-053\n",
      "20771580 => 20771-580\n",
      "20550200 => 20550-200\n",
      "20770240 => 20770-240\n",
      "24230000 => 24230-000\n",
      "22723002 => 22723-002\n",
      "24220401 => 24220-401\n",
      "22743050 => 22743-050\n",
      "20550200 => 20550-200\n",
      "24230153 => 24230-153\n",
      "22790440 => 22790-440\n",
      "20715310 => 20715-310\n",
      "20715310 => 20715-310\n",
      "22770104 => 22770-104\n",
      "22770104 => 22770-104\n",
      "26210060 => 26210-060\n",
      "20715310 => 20715-310\n"
     ]
    }
   ],
   "source": [
    "postcode_digit8_re = re.compile(r'^([0-9]{8})$')\n",
    "\n",
    "def update_postcode(postalcode):\n",
    "    name = postalcode[:5] + \"-\" + postalcode[5:]\n",
    "    return name\n",
    "\n",
    "\n",
    "for postalcode in unformatted_postal_codes:\n",
    "    if postcode_digit8_re.match(postalcode) != None:\n",
    "        better_name = update_postcode(postalcode)\n",
    "        print postalcode, \"=>\", better_name\n",
    "        \n"
   ]
  },
  {
   "cell_type": "markdown",
   "metadata": {},
   "source": [
    "## Deploying clean data to json file"
   ]
  },
  {
   "cell_type": "code",
   "execution_count": 16,
   "metadata": {
    "collapsed": false
   },
   "outputs": [
    {
     "name": "stdout",
     "output_type": "stream",
     "text": [
      "ok\n"
     ]
    }
   ],
   "source": [
    "# defining the created pattern of database\n",
    "CREATED = [ \"version\", \"changeset\", \"timestamp\", \"user\", \"uid\"]\n",
    "\n",
    "#main function\n",
    "def shape_element(element):\n",
    "    node = {}\n",
    "    if element.tag == \"node\" or element.tag == \"way\":\n",
    "        node[\"type\"] = element.tag     \n",
    "        pos = [0,0]\n",
    "        \n",
    "        #dealing with element attributes first\n",
    "        for attribute in element.attrib:  \n",
    "            \n",
    "            if attribute in CREATED: \n",
    "                if \"created\" not in node: node[\"created\"] = {}  #create nested dictionary if not already created\n",
    "                node[\"created\"][attribute] = element.attrib[attribute]\n",
    "                \n",
    "            elif attribute == \"lat\":\n",
    "                pos[0] = float(element.attrib[attribute]) #turning string to float\n",
    "            \n",
    "            elif attribute == \"lon\":\n",
    "                pos[1] = float(element.attrib[attribute]) \n",
    "                \n",
    "            else:\n",
    "                node[attribute] = element.attrib[attribute]\n",
    "       \n",
    "        if pos != [0,0]: node['pos'] = [pos[0],pos[1]] #add position only when there is lat and long data\n",
    "        \n",
    "        #now the child elements and its attributes\n",
    "        for child in element:\n",
    "            \n",
    "            if child.tag == \"tag\":          #elements named tag\n",
    "                key = child.attrib['k']\n",
    "                value = child.attrib['v']\n",
    "                if problemchars.search(key):pass   #pass k problematic chars\n",
    "                \n",
    "                elif lower_colon.search(key):    #lowercase one colon\n",
    "                    \n",
    "                    #special treatment for addr:\n",
    "                    if re.search(\"addr:\",key ):  \n",
    "                        \n",
    "                        #fixing street names with update function\n",
    "                        if is_street_name(child) and value.split()[0] in mapping.keys():\n",
    "                            value = update_street_name(value,mapping)\n",
    "                        \n",
    "                        #fixing postal code with update function\n",
    "                        elif is_postcode(child) and postcode_re.match(value) == None:\n",
    "                            value = update_postcode(value)\n",
    "                        pass \n",
    "                        \n",
    "                        if \"address\" not in node: node[\"address\"] = {}  #create subdictionary address if not present already\n",
    "                        node[\"address\"][key[5:]] = value\n",
    "                    \n",
    "                    #general treatment for one colon (nested dictionary)\n",
    "                    else:\n",
    "                        beginning = key.split(':')[0]\n",
    "                        end = key.split(':')[1]\n",
    "                        if beginning not in node: node[beginning] = {}\n",
    "                        \n",
    "                        elif not isinstance(node[beginning], dict):    #this happens when there is already a str value for\n",
    "                            main_value = node[beginning]               #node[beginning], created by the lower.search(key) part\n",
    "                            node[beginning] = {}                       #of the code below. We rebuild the structure putting \n",
    "                            node[beginning][\"main_value\"] = main_value #the previously created value in the main_value \n",
    "                            node[beginning][end] = value               #key of the dictionary\n",
    "                        \n",
    "                        else:\n",
    "                            node[beginning][end] = value\n",
    "                        \n",
    "                elif lower.search(key):\n",
    "                    node[key] = value\n",
    "        \n",
    "            if child.tag == \"nd\":\n",
    "                if \"node_refs\" not in node: node[\"node_refs\"] = []\n",
    "                node[\"node_refs\"].append(child.attrib[\"ref\"])    \n",
    "         \n",
    "        return node\n",
    "    else:\n",
    "        return None\n",
    "\n",
    "\n",
    "def process_map_json(file_in, pretty = False):\n",
    "    file_out = \"{0}.json\".format(file_in)\n",
    "    data = []\n",
    "    with codecs.open(file_out, \"w\") as fo:\n",
    "        for _, element in ET.iterparse(file_in):\n",
    "            el = shape_element(element)\n",
    "            if el:\n",
    "                data.append(el)\n",
    "                if pretty:\n",
    "                    fo.write(json.dumps(el, indent=2)+\"\\n\")\n",
    "                else:\n",
    "                    fo.write(json.dumps(el) + \"\\n\")\n",
    "    return data\n",
    "\n",
    "\n",
    "process_map_json(OSM_FILE,pretty = False)\n",
    "print \"ok\"\n"
   ]
  },
  {
   "cell_type": "markdown",
   "metadata": {
    "collapsed": true
   },
   "source": [
    "## Making MongoDB queries to JSON file"
   ]
  },
  {
   "cell_type": "code",
   "execution_count": 17,
   "metadata": {
    "collapsed": false
   },
   "outputs": [],
   "source": [
    "#To load the json file, start the mongoDbserver\n",
    "#mongod --dbpath dataPATH\n",
    "#and run\n",
    "#mongoimport --db rio --collection rio --drop --file `PATH`\\rio-de-janeiro_brazil_kfixed.json\n",
    "\n",
    "client = MongoClient('mongodb://localhost:27017')\n",
    "\n",
    "db = client.rio\n",
    "\n",
    "db.rio.find().count()\n",
    "\n",
    "# function to loop through result objects returned by pymongo queries\n",
    "def show(cursor):\n",
    "    for document in cursor:\n",
    "        pprint.pprint(document)\n",
    "    return\n",
    "  "
   ]
  },
  {
   "cell_type": "markdown",
   "metadata": {},
   "source": [
    "### Number of unique users and top 10 contributors"
   ]
  },
  {
   "cell_type": "code",
   "execution_count": 18,
   "metadata": {
    "collapsed": false
   },
   "outputs": [
    {
     "data": {
      "text/plain": [
       "1442"
      ]
     },
     "execution_count": 18,
     "metadata": {},
     "output_type": "execute_result"
    }
   ],
   "source": [
    "len(db.rio.distinct(\"created.user\"))\n"
   ]
  },
  {
   "cell_type": "code",
   "execution_count": 19,
   "metadata": {
    "collapsed": false
   },
   "outputs": [
    {
     "name": "stdout",
     "output_type": "stream",
     "text": [
      "{u'_id': u'Alexandrecw', u'count': 377657}\n",
      "{u'_id': u'AlNo', u'count': 174518}\n",
      "{u'_id': u'ThiagoPv', u'count': 123929}\n",
      "{u'_id': u'Import Rio', u'count': 87800}\n",
      "{u'_id': u'Geaquinto', u'count': 74631}\n",
      "{u'_id': u'Nighto', u'count': 66948}\n",
      "{u'_id': u'Thundercel', u'count': 60824}\n",
      "{u'_id': u'M\\xe1rcio V\\xedn\\xedcius Pinheiro', u'count': 32014}\n",
      "{u'_id': u'Ricardo Mitidieri', u'count': 26189}\n",
      "{u'_id': u'patodiez', u'count': 25399}\n"
     ]
    }
   ],
   "source": [
    "cursor = db.rio.aggregate([{\"$group\":{\"_id\":\"$created.user\", \"count\":{\"$sum\":1}}}, {\"$sort\":{\"count\":-1}}, {\"$limit\":10}])\n",
    "show(cursor)"
   ]
  },
  {
   "cell_type": "markdown",
   "metadata": {},
   "source": [
    "### Number of nodes and ways"
   ]
  },
  {
   "cell_type": "code",
   "execution_count": 20,
   "metadata": {
    "collapsed": false
   },
   "outputs": [
    {
     "data": {
      "text/plain": [
       "144695"
      ]
     },
     "execution_count": 20,
     "metadata": {},
     "output_type": "execute_result"
    }
   ],
   "source": [
    "db.rio.find({\"type\":\"way\"}).count()"
   ]
  },
  {
   "cell_type": "code",
   "execution_count": 21,
   "metadata": {
    "collapsed": false
   },
   "outputs": [
    {
     "data": {
      "text/plain": [
       "1285924"
      ]
     },
     "execution_count": 21,
     "metadata": {},
     "output_type": "execute_result"
    }
   ],
   "source": [
    "db.rio.find({\"type\":\"node\"}).count()"
   ]
  },
  {
   "cell_type": "markdown",
   "metadata": {},
   "source": [
    "### Postal code count"
   ]
  },
  {
   "cell_type": "code",
   "execution_count": 22,
   "metadata": {
    "collapsed": false
   },
   "outputs": [
    {
     "name": "stdout",
     "output_type": "stream",
     "text": [
      "{u'_id': None, u'count': 1428391}\n",
      "{u'_id': u'22720-410', u'count': 96}\n",
      "{u'_id': u'22471-003', u'count': 84}\n",
      "{u'_id': u'22720-400', u'count': 76}\n",
      "{u'_id': u'22220-000', u'count': 62}\n",
      "{u'_id': u'22221-000', u'count': 56}\n"
     ]
    }
   ],
   "source": [
    "cursor = db.rio.aggregate([{\"$group\":{\"_id\":\"$address.postcode\", \"count\":{\"$sum\":1}}}, \n",
    "                   {\"$sort\":{\"count\":-1}},\n",
    "                   {\"$limit\" : 6}])\n",
    "show(cursor)"
   ]
  },
  {
   "cell_type": "markdown",
   "metadata": {},
   "source": [
    "### Suburb entries count - Tijuca"
   ]
  },
  {
   "cell_type": "code",
   "execution_count": 23,
   "metadata": {
    "collapsed": false
   },
   "outputs": [
    {
     "name": "stdout",
     "output_type": "stream",
     "text": [
      "{u'_id': None, u'count': 1428539}\n",
      "{u'_id': u'Centro', u'count': 127}\n",
      "{u'_id': u'Campo Grande', u'count': 102}\n",
      "{u'_id': u'Recreio dos Bandeirantes', u'count': 100}\n",
      "{u'_id': u'Ipanema', u'count': 90}\n",
      "{u'_id': u'Santa Cruz', u'count': 80}\n",
      "{u'_id': u'Bangu', u'count': 72}\n",
      "{u'_id': u'Barra da Tijuca', u'count': 69}\n",
      "{u'_id': u'Tijuca', u'count': 48}\n",
      "{u'_id': u'Botafogo', u'count': 48}\n"
     ]
    }
   ],
   "source": [
    "cursor = db.rio.aggregate([{\"$group\":{\"_id\":\"$address.suburb\", \"count\":{\"$sum\":1}}}, {\"$sort\":{\"count\":-1}}, {\"$limit\":10}])\n",
    "\n",
    "show(cursor)"
   ]
  },
  {
   "cell_type": "code",
   "execution_count": 24,
   "metadata": {
    "collapsed": false
   },
   "outputs": [
    {
     "name": "stdout",
     "output_type": "stream",
     "text": [
      "{u'_id': u'seafood', u'count': 1}\n",
      "{u'_id': u'italian', u'count': 1}\n"
     ]
    }
   ],
   "source": [
    "cursor = db.rio.aggregate([{\"$match\":{\"amenity\":\"restaurant\"}},\n",
    "                           {\"$match\":{\"address.suburb\" : \"Tijuca\"}},\n",
    "                   {\"$group\":{\"_id\":\"$cuisine\", \"count\":{\"$sum\":1}}}, {\"$sort\":{\"count\":-1}}, {\"$limit\":5}])\n",
    "\n",
    "show(cursor)"
   ]
  },
  {
   "cell_type": "markdown",
   "metadata": {},
   "source": [
    "### Amenity and cuisine counts"
   ]
  },
  {
   "cell_type": "code",
   "execution_count": 25,
   "metadata": {
    "collapsed": false
   },
   "outputs": [
    {
     "name": "stdout",
     "output_type": "stream",
     "text": [
      "{u'_id': None, u'count': 1419560}\n",
      "{u'_id': u'school', u'count': 1759}\n",
      "{u'_id': u'bicycle_parking', u'count': 1139}\n",
      "{u'_id': u'restaurant', u'count': 940}\n",
      "{u'_id': u'parking', u'count': 893}\n",
      "{u'_id': u'fast_food', u'count': 849}\n",
      "{u'_id': u'fuel', u'count': 614}\n",
      "{u'_id': u'place_of_worship', u'count': 508}\n",
      "{u'_id': u'bank', u'count': 489}\n",
      "{u'_id': u'pub', u'count': 379}\n"
     ]
    }
   ],
   "source": [
    "cursor = db.rio.aggregate([{\"$group\":{\"_id\":\"$amenity\",\n",
    "\"count\":{\"$sum\":1}}}, {\"$sort\":{\"count\":-1}}, {\"$limit\":10}])\n",
    "\n",
    "show(cursor)"
   ]
  },
  {
   "cell_type": "code",
   "execution_count": 26,
   "metadata": {
    "collapsed": false
   },
   "outputs": [
    {
     "name": "stdout",
     "output_type": "stream",
     "text": [
      "{u'_id': None, u'count': 563}\n",
      "{u'_id': u'pizza', u'count': 85}\n",
      "{u'_id': u'regional', u'count': 81}\n",
      "{u'_id': u'italian', u'count': 35}\n",
      "{u'_id': u'japanese', u'count': 34}\n",
      "{u'_id': u'steak_house', u'count': 18}\n"
     ]
    }
   ],
   "source": [
    "cursor = db.rio.aggregate([{\"$match\":{\"amenity\":\"restaurant\"}},\n",
    "                           {\"$group\":{\"_id\":\"$cuisine\", \"count\":{\"$sum\":1}}}, {\"$sort\":{\"count\":-1}}, {\"$limit\":6}])\n",
    "\n",
    "show(cursor)"
   ]
  }
 ],
 "metadata": {
  "kernelspec": {
   "display_name": "Python 2",
   "language": "python",
   "name": "python2"
  },
  "language_info": {
   "codemirror_mode": {
    "name": "ipython",
    "version": 2
   },
   "file_extension": ".py",
   "mimetype": "text/x-python",
   "name": "python",
   "nbconvert_exporter": "python",
   "pygments_lexer": "ipython2",
   "version": "2.7.11"
  }
 },
 "nbformat": 4,
 "nbformat_minor": 0
}
